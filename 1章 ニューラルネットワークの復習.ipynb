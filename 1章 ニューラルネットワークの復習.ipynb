{
 "cells": [
  {
   "cell_type": "markdown",
   "metadata": {},
   "source": [
    "# ニューラルネットワークの復習  \n",
    "前作のダイジェスト"
   ]
  },
  {
   "cell_type": "markdown",
   "metadata": {},
   "source": [
    "## まとめ\n",
    "- ベクトルや行列の復習\n",
    "- ニューラルネットワークの仕組み\n",
    "   - 入力層，隠れ層，出力層を持つ\n",
    "   - 計算グラフの基本パーツ\n",
    "       - 加算ノード\n",
    "       - 乗算ノード\n",
    "       - Repeatノード\n",
    "       - Sumノード\n",
    "       - MatMulノード\n",
    "   - 順伝播と逆伝播\n",
    "- ニューラルネットワークの実装\n",
    "    - レイヤ(NNの組み立てが容易になる)\n",
    "        - Affineレイヤ(全結合層)\n",
    "        - Sigmoidレイヤ(活性化関数,非線形な変換を可能にする)\n",
    "        - SoftmaxWithLossレイヤ\n",
    "        - forward()とbackward()を持つ\n",
    "        - paramsとgradsを持つ\n",
    "    - ミニバッチ処理で行列としてまとめて計算\n",
    "    - 誤差逆伝播法で効率的にNNの損失に関する勾配を求めることができる．\n",
    "- スパイラルデータセット\n",
    "    - 二層NNで学習\n",
    "- 高速化\n",
    "    - ビット精度を32にする\n",
    "    - GPUによる並列計算はnumpyと同じインタフェースを持つcupyで簡単に行える．"
   ]
  },
  {
   "cell_type": "code",
   "execution_count": 42,
   "metadata": {},
   "outputs": [],
   "source": [
    "%matplotlib inline"
   ]
  },
  {
   "cell_type": "markdown",
   "metadata": {},
   "source": [
    "## 数学とPython"
   ]
  },
  {
   "cell_type": "markdown",
   "metadata": {},
   "source": [
    "一般的にベクトルは列ベクトルであらわされるが，本書では実装上の問題から行ベクトルを使う．  "
   ]
  },
  {
   "cell_type": "code",
   "execution_count": 2,
   "metadata": {},
   "outputs": [
    {
     "name": "stdout",
     "output_type": "stream",
     "text": [
      "<class 'numpy.ndarray'>\n",
      "(3,)\n",
      "1\n"
     ]
    }
   ],
   "source": [
    "import numpy as np\n",
    "\n",
    "x = np.array([1,2,3])\n",
    "print(x.__class__)\n",
    "print(x.shape)\n",
    "print(x.ndim)"
   ]
  },
  {
   "cell_type": "code",
   "execution_count": 3,
   "metadata": {},
   "outputs": [
    {
     "name": "stdout",
     "output_type": "stream",
     "text": [
      "(2, 3)\n",
      "2\n"
     ]
    }
   ],
   "source": [
    "# 1次元目は行ベクトル！\n",
    "W = np.array([[1,3,5], [2,4,6]])\n",
    "print(W.shape)\n",
    "print(W.ndim)"
   ]
  },
  {
   "cell_type": "code",
   "execution_count": 4,
   "metadata": {},
   "outputs": [
    {
     "name": "stdout",
     "output_type": "stream",
     "text": [
      "[[ 1  3  5]\n",
      " [ 7  9 11]]\n",
      "[[ 0  2  6]\n",
      " [12 20 30]]\n"
     ]
    }
   ],
   "source": [
    "# 行列同士の演算\n",
    "W = np.array([[1,2,3], [4,5,6]])\n",
    "X = np.array([[0,1,2], [3,4,5]])\n",
    "print(W + X)\n",
    "print(W * X)"
   ]
  },
  {
   "cell_type": "code",
   "execution_count": 5,
   "metadata": {},
   "outputs": [
    {
     "name": "stdout",
     "output_type": "stream",
     "text": [
      "[[10 20]\n",
      " [30 40]]\n",
      "[[10 40]\n",
      " [30 80]]\n"
     ]
    }
   ],
   "source": [
    "# スカラーによる演算  \n",
    "A = np.array([[1,2], [3,4]])\n",
    "print(A * 10)\n",
    "\n",
    "b = np.array([10, 20])\n",
    "print(A * b) #bの2行目を拡張する"
   ]
  },
  {
   "cell_type": "code",
   "execution_count": 6,
   "metadata": {},
   "outputs": [
    {
     "data": {
      "text/plain": [
       "32"
      ]
     },
     "execution_count": 6,
     "metadata": {},
     "output_type": "execute_result"
    }
   ],
   "source": [
    "# ベクトルの内積\n",
    "a = np.array([1,2,3])\n",
    "b = np.array([4,5,6])\n",
    "np.dot(a, b)"
   ]
  },
  {
   "cell_type": "code",
   "execution_count": 7,
   "metadata": {},
   "outputs": [
    {
     "data": {
      "text/plain": [
       "array([[19, 22],\n",
       "       [43, 50]])"
      ]
     },
     "execution_count": 7,
     "metadata": {},
     "output_type": "execute_result"
    }
   ],
   "source": [
    "# 行列の積\n",
    "A = np.array([[1,2], [3,4]])\n",
    "B = np.array([[5,6], [7,8]])\n",
    "A@B # np.dot(A, B)"
   ]
  },
  {
   "cell_type": "markdown",
   "metadata": {},
   "source": [
    "[Numpy100](https://github.com/rougier/numpy-100)"
   ]
  },
  {
   "cell_type": "markdown",
   "metadata": {},
   "source": [
    "## ニューラルネットワークの推論  \n",
    "NNは単なる関数  \n",
    "NN： ニューロンが矢印でつながり，その矢印に重み，ニューロンの出力にバイアスがかかり，入力層，中間層，出力層がある計算モデル  \n",
    "重みのある層の数がNNの層の数．入力層には重みがなかったりするので，3列見えるNNは2層NN"
   ]
  },
  {
   "cell_type": "code",
   "execution_count": 8,
   "metadata": {},
   "outputs": [
    {
     "name": "stdout",
     "output_type": "stream",
     "text": [
      "[[0.75965065 1.85505798 1.09705565 0.95164566]]\n",
      "[[0.7770675  1.61294223 0.96598291 0.74216491]\n",
      " [0.64528626 1.55028208 0.81006987 0.78605446]\n",
      " [0.82782417 1.65693875 1.03806588 0.74141713]\n",
      " [0.67321983 1.65914503 0.90101711 0.85449943]\n",
      " [0.67167192 1.58219319 0.85301775 0.79301887]\n",
      " [0.59630574 1.41544014 0.68454679 0.71162753]\n",
      " [0.64167014 1.37305241 0.69947563 0.64449387]\n",
      " [0.7030545  1.4425782  0.79653582 0.65686226]\n",
      " [0.70701733 1.73432766 0.97681114 0.89132688]\n",
      " [0.5731665  1.25278516 0.56530622 0.59597557]]\n"
     ]
    }
   ],
   "source": [
    "# 1つのサンプルデータ\n",
    "N = 1\n",
    "W1 = np.random.rand(2, 4)\n",
    "x = np.random.rand(N, 2)\n",
    "b1 = np.random.rand(4)\n",
    "\n",
    "h = x @ W1 + b1\n",
    "print(h)\n",
    "\n",
    "# 複数のサンプルデータを一度に処理(バッチ処理)\n",
    "N = 10\n",
    "x = np.random.rand(N, 2)\n",
    "h = x @ W1 + b1\n",
    "print(h)"
   ]
  },
  {
   "cell_type": "markdown",
   "metadata": {},
   "source": [
    "全結合層による変換は「線形」  \n",
    "活性化関数によって「非線形」な効果を与えられる．"
   ]
  },
  {
   "cell_type": "code",
   "execution_count": 9,
   "metadata": {},
   "outputs": [
    {
     "data": {
      "text/plain": [
       "array([[0.68504775, 0.83381948, 0.72431808, 0.67746908],\n",
       "       [0.65594745, 0.82495447, 0.69212439, 0.68698352],\n",
       "       [0.69589467, 0.83982664, 0.73847664, 0.67730567],\n",
       "       [0.66222376, 0.8401232 , 0.71115847, 0.70151015],\n",
       "       [0.66187743, 0.8295149 , 0.7011998 , 0.68847917],\n",
       "       [0.64481066, 0.80462258, 0.66475274, 0.67076068],\n",
       "       [0.6551309 , 0.79787287, 0.6680715 , 0.6557686 ],\n",
       "       [0.66886465, 0.80885358, 0.68923297, 0.65855519],\n",
       "       [0.66974176, 0.84996514, 0.72647502, 0.70916392],\n",
       "       [0.63949351, 0.77778161, 0.63767941, 0.64473504]])"
      ]
     },
     "execution_count": 9,
     "metadata": {},
     "output_type": "execute_result"
    }
   ],
   "source": [
    "# シグモイド関数\n",
    "def sigmoid(x):\n",
    "    return 1 / (1 + np.exp(-x))\n",
    "\n",
    "# hのすべての要素にシグモイド関数を適用\n",
    "sigmoid(h)"
   ]
  },
  {
   "cell_type": "code",
   "execution_count": 10,
   "metadata": {},
   "outputs": [
    {
     "name": "stdout",
     "output_type": "stream",
     "text": [
      "[[-0.04868122  0.90814017 -0.74869488]\n",
      " [ 0.16619621  1.05939697 -0.86320553]\n",
      " [ 0.72129884  1.50021077 -0.8247134 ]\n",
      " [ 0.74002374  1.4712796  -0.73776379]\n",
      " [-0.1579412   0.83857922 -0.72086922]\n",
      " [ 0.85509016  1.49368013 -0.22471231]\n",
      " [-0.83934288  0.3706292  -0.7295603 ]\n",
      " [-0.33130505  0.74703904 -1.08541543]\n",
      " [ 0.24835515  1.09915255 -0.6871742 ]\n",
      " [-0.39758075  0.69234765 -0.88360119]]\n"
     ]
    },
    {
     "data": {
      "text/plain": [
       "array([0.90814017, 1.05939697, 1.50021077, 1.4712796 , 0.83857922,\n",
       "       1.49368013, 0.3706292 , 0.74703904, 1.09915255, 0.69234765])"
      ]
     },
     "execution_count": 10,
     "metadata": {},
     "output_type": "execute_result"
    }
   ],
   "source": [
    "# ニューラルネットワークの推論フェーズのまとめ\n",
    "# 2 - 4 - 3 ネットワークを作成\n",
    "batch_N = 10\n",
    "\n",
    "x = np.random.randn(batch_N, 2)\n",
    "W1 = np.random.randn(2, 4)\n",
    "b1 = np.random.randn(4)\n",
    "W2 = np.random.randn(4, 3)\n",
    "b2 = np.random.randn(3)\n",
    "\n",
    "h = x @ W1 + b1\n",
    "a = sigmoid(h)\n",
    "s = a @ W2 + b2\n",
    "\n",
    "print(s)\n",
    "\n",
    "# 各バッチで入力がどのクラスになるかは，スコアの最も高いものを選ぶことになる．\n",
    "# これらのスコアをSoftmax関数に入れると，クラスに入る確率を得られる．\n",
    "np.max(s, axis=1)"
   ]
  },
  {
   "cell_type": "markdown",
   "metadata": {},
   "source": [
    "### レイヤのクラス化  \n",
    "sigmoidレイヤとAffineレイヤをクラスとして作成\n",
    "\n",
    "実装ルール\n",
    "- 全てのレイヤはメソッドとしてforward(input_params)とbackward(dout)を持つ\n",
    "- 全てのレイヤはインスタンス変数としてparamsとgradsを持つ"
   ]
  },
  {
   "cell_type": "code",
   "execution_count": 11,
   "metadata": {},
   "outputs": [],
   "source": [
    "class Sigmoid:\n",
    "    def __init__(self):\n",
    "        self.params = []\n",
    "    \n",
    "    def forward(self, x):\n",
    "        return 1 / (1 + np.exp(-x))"
   ]
  },
  {
   "cell_type": "code",
   "execution_count": 12,
   "metadata": {},
   "outputs": [],
   "source": [
    "class Affine:\n",
    "    def __init__(self, W, b):\n",
    "        self.params = [W, b]\n",
    "    \n",
    "    def forward(self, x):\n",
    "        W, b = self.params\n",
    "        return x @ W + b"
   ]
  },
  {
   "cell_type": "markdown",
   "metadata": {},
   "source": [
    "SigmoidレイヤとAffineレイヤを使って2層NNを作成  \n",
    "x -> Affine -> Sigmoid -> Affine -> S"
   ]
  },
  {
   "cell_type": "code",
   "execution_count": 13,
   "metadata": {},
   "outputs": [],
   "source": [
    "class TwoLayerNet():\n",
    "    def __init__(self, input_size, hidden_size, output_size):\n",
    "        I, H, O = input_size, hidden_size, output_size\n",
    "        \n",
    "        # 重みとバイアスの初期化\n",
    "        W1 = np.random.randn(input_size, hidden_size)\n",
    "        b1 = np.random.randn(hidden_size)\n",
    "        W2 = np.random.randn(hidden_size, output_size)\n",
    "        b2 = np.random.randn(output_size)\n",
    "        \n",
    "        # レイヤを作成\n",
    "        self.layers = [\n",
    "            Affine(W1, b1),\n",
    "            Sigmoid(),\n",
    "            Affine(W2, b2)\n",
    "        ]\n",
    "        \n",
    "        # 全ての重みをリストにまとめる\n",
    "        # レイヤレベルではなく，ネットワークレベルでparamsを持つことで，\n",
    "        # パラメータの更新，保存を簡単にする\n",
    "        self.params = []\n",
    "        for layer in self.layers:\n",
    "            self.params += layer.params # リストとリストでは+=演算子は結合になる\n",
    "        \n",
    "    def predict(self, x):\n",
    "        for layer in self.layers:\n",
    "            x = layer.forward(x)\n",
    "        return x"
   ]
  },
  {
   "cell_type": "code",
   "execution_count": 14,
   "metadata": {},
   "outputs": [
    {
     "data": {
      "text/plain": [
       "array([[1.25244504, 0.72573324, 3.3192245 ],\n",
       "       [1.22386255, 0.98945283, 2.88645391],\n",
       "       [0.94547232, 0.41392285, 4.16786365],\n",
       "       [1.33974503, 0.13820757, 3.43594745],\n",
       "       [1.18446599, 0.51124699, 3.58219008],\n",
       "       [1.14599858, 1.10306275, 2.98433438],\n",
       "       [1.25252392, 0.8376773 , 3.23480089],\n",
       "       [1.37608805, 0.46548387, 3.20961407],\n",
       "       [1.17480378, 1.04053379, 2.88435185],\n",
       "       [0.87651558, 1.05086192, 3.94296298]])"
      ]
     },
     "execution_count": 14,
     "metadata": {},
     "output_type": "execute_result"
    }
   ],
   "source": [
    "# TwoLayerNetで推論（順伝搬）\n",
    "x = np.random.randn(10, 2)\n",
    "model = TwoLayerNet(2,4,3)\n",
    "model.predict(x)"
   ]
  },
  {
   "cell_type": "markdown",
   "metadata": {},
   "source": [
    "## ニューラルネットワークの学習  \n",
    "学習： 多クラス分類などの問題の答えを正確に導けるようになるため，パラメータを更新する作業  "
   ]
  },
  {
   "cell_type": "markdown",
   "metadata": {},
   "source": [
    "### 損失関数  \n",
    "#### 交差エントロピー誤差\n",
    "- 多クラス分類問題に利用\n",
    "- Softmaxの出力となる確率と教師ラベルを比べる  \n",
    "Softmax関数は以下であらわされる\n",
    "$$ y_k= \\frac{exp(s_k)}{\\sum_{i=1}^{n}exp(s_i)} $$\n",
    "全てのSoftmaxの出力のうち，k番目の出力がどれだけの割合を持つか．比較するときはexpをかませる\n",
    "  \n",
    "交差エントロピー誤差は以下であらわされる\n",
    "$$ L = -\\sum_{k}t_k logy_k $$\n",
    "tは教師ラベル．one-hotなので，実質正解ラベルが1の要素に対応する出力の自然対数を計算するだけ．  \n",
    "ミニバッチ処理では以下の式で，平均の交差エントロピー誤差を求める．\n",
    "$$ L = -\\frac{1}{N}\\sum_{n}\\sum_{k}t_{nk}log y_{nk} $$\n",
    "本書ではSoftmax with Loss レイヤとして一つにまとめる．"
   ]
  },
  {
   "cell_type": "code",
   "execution_count": 15,
   "metadata": {},
   "outputs": [],
   "source": [
    "def softmax(x):\n",
    "    if x.ndim == 2:\n",
    "        x = x - x.max(axis=1, keepdims=True)\n",
    "        x = np.exp(x)\n",
    "        x /= x.sum(axis=1, keepdims=True)\n",
    "    elif x.ndim == 1:\n",
    "        x = x - np.max(x)\n",
    "        x = np.exp(x) / np.sum(np.exp(x))\n",
    "\n",
    "    return x\n",
    "\n",
    "\n",
    "def cross_entropy_error(y, t):\n",
    "    if y.ndim == 1:\n",
    "        t = t.reshape(1, t.size)\n",
    "        y = y.reshape(1, y.size)\n",
    "        \n",
    "    # 教師データがone-hot-vectorの場合、正解ラベルのインデックスに変換\n",
    "    if t.size == y.size:\n",
    "        t = t.argmax(axis=1)\n",
    "             \n",
    "    batch_size = y.shape[0]\n",
    "\n",
    "    return -np.sum(np.log(y[np.arange(batch_size), t] + 1e-7)) / batch_size\n",
    "\n",
    "\n",
    "class SoftmaxWithLoss:\n",
    "    def __init__(self):\n",
    "        self.params, self.grads = [], []\n",
    "        self.y = None  # softmaxの出力\n",
    "        self.t = None  # 教師ラベル\n",
    "\n",
    "    def forward(self, x, t):\n",
    "        self.t = t\n",
    "        self.y = softmax(x)\n",
    "\n",
    "        # 教師ラベルがone-hotベクトルの場合、正解のインデックスに変換\n",
    "        if self.t.size == self.y.size:\n",
    "            self.t = self.t.argmax(axis=1)\n",
    "\n",
    "        loss = cross_entropy_error(self.y, self.t)\n",
    "        return loss\n",
    "\n",
    "    def backward(self, dout=1):\n",
    "        batch_size = self.t.shape[0]\n",
    "\n",
    "        dx = self.y.copy()\n",
    "        dx[np.arange(batch_size), self.t] -= 1\n",
    "        dx *= dout\n",
    "        dx = dx / batch_size\n",
    "\n",
    "        return dx"
   ]
  },
  {
   "cell_type": "markdown",
   "metadata": {},
   "source": [
    "### 微分と勾配\n",
    "損失をなるべく小さくするパラメータを見つけるために，関数の微分，勾配を使う  \n",
    "$y=x^2$の微分は$\\frac{dy}{dx} = 2x$であり，xの値を少しだけ変化させたときの変化量であり，点$x$における傾きである．  \n",
    "多変数についての微分も求められる．  \n",
    "ベクトル内の変数に関する微分と，ベクトルに対する微分が定義される．  \n",
    "それらのベクトルの各要素に関する微分をまとめてベクトルとしたものを勾配と呼ぶ．  \n",
    "行列に関する微分も，各要素を各変数で微分することで定義できる．  "
   ]
  },
  {
   "cell_type": "markdown",
   "metadata": {},
   "source": [
    "### チェインルール\n",
    "各パラメータに関する損失の勾配を求め，勾配が小さくなる方向に変数を変化させていく．  \n",
    "ニューラルネットワークの勾配は誤差逆伝搬法を用いて求める．  \n",
    "誤差逆伝搬法を理解するうえで，チェインルール（合成関数の微分法）が出てくる．  \n",
    "$ z = g(f(x))$の微分は$\\frac{\\partial z}{\\partial x} = \\frac{\\partial z}{\\partial y} \\frac{\\partial y}{\\partial x}$と，内側と外側の積であらわせる．  \n",
    "これによって，我々の扱う関数がどんなに複雑でも，局所的な微分の組み合わせで全体の微分を求めることができる．"
   ]
  },
  {
   "cell_type": "markdown",
   "metadata": {},
   "source": [
    "### 計算グラフ\n",
    "計算グラフは，演算をノード，値をエッジとしたグラフである．  \n",
    "順方向への計算を通常の計算，$\\frac{\\partial L}{\\partial z}$を出力側に入力して逆方向へ伝搬させると勾配を求めることになる．  \n",
    "加算ノードであれば，計算式は$z = x + y$であり，$x$で微分しても$y$で微分しても1になるため，それぞれの入力に1をかけて返す．  \n",
    "乗算ノードであれば，計算式は$z = xy$であり，$x$で微分しても$y$で微分しても反対側の変数になるため，それぞれの入力に反対側の変数をかけて返す．  "
   ]
  },
  {
   "cell_type": "markdown",
   "metadata": {},
   "source": [
    "分岐ノードは入力をコピーするノードで，逆伝搬させるときは上流からの勾配の和を返す．  \n",
    "RepeatノードではD次元ベクトルをN個コピーし，D×N行列を出力する．逆伝搬ではN個の$D_i$の総和を各成分としたD次元ベクトルを返す．  "
   ]
  },
  {
   "cell_type": "code",
   "execution_count": 16,
   "metadata": {},
   "outputs": [],
   "source": [
    "# Repeatノード実装例\n",
    "D, N = 8, 7\n",
    "\n",
    "# forward\n",
    "x = np.random.randn(1, D)\n",
    "y = np.repeat(x, N, axis=0)\n",
    "\n",
    "# backward\n",
    "dy = np.random.randn(N, D)\n",
    "dx = np.sum(dy, axis=0, keepdims=True)"
   ]
  },
  {
   "cell_type": "markdown",
   "metadata": {},
   "source": [
    "sumノードはN×Dの配列のN個方向の総和を取ってD次元ベクトルにする．  \n",
    "逆伝搬はD次元ベクトルをN個にRepeatする．"
   ]
  },
  {
   "cell_type": "code",
   "execution_count": 17,
   "metadata": {},
   "outputs": [],
   "source": [
    "D, N = 8, 7\n",
    "\n",
    "# forward\n",
    "x = np.random.randn(N, D)\n",
    "y = np.sum(x, axis=0, keepdims=True)\n",
    "\n",
    "# backward\n",
    "dy = np.random.randn(1, D)\n",
    "dx = np.repeat(dy, N, axis=0)"
   ]
  },
  {
   "cell_type": "markdown",
   "metadata": {},
   "source": [
    "MatMulノードは行列の積を順伝搬で求め，逆伝搬では反対側の行列の転置を計上に注意して掛けて返す．"
   ]
  },
  {
   "cell_type": "code",
   "execution_count": 18,
   "metadata": {},
   "outputs": [],
   "source": [
    "class MatMul:\n",
    "    def __init__(self, W):\n",
    "        self.params = [W]\n",
    "        self.grads = [np.zeros_like(W)]\n",
    "        self.x = None\n",
    "    \n",
    "    def forward(self, x):\n",
    "        W, = self.params\n",
    "        out = np.dot(x, W)\n",
    "        self.x = x\n",
    "        return out\n",
    "    \n",
    "    def backward(self, dout):\n",
    "        W, = self.params\n",
    "        dx = np.dot(dout, W.T)\n",
    "        dW = np.dot(self.x.T, dout)\n",
    "        self.grads[0][...] = dW # 深いコピー\n",
    "        return dx"
   ]
  },
  {
   "cell_type": "code",
   "execution_count": 19,
   "metadata": {},
   "outputs": [
    {
     "name": "stdout",
     "output_type": "stream",
     "text": [
      "[4 5 6]\n",
      "[4 5 6]\n",
      "[  4 100   6]\n",
      "[  4 100   6]\n",
      "\n",
      "[4 5 6]\n",
      "[4 5 6]\n",
      "[4 5 6]\n",
      "[  4 100   6]\n"
     ]
    }
   ],
   "source": [
    "# 3点リーダーについて\n",
    "a = np.array([1,2,3])\n",
    "b = np.array([4,5,6])\n",
    "\n",
    "# 浅いコピー，アドレスを一致させるだけ\n",
    "a = b\n",
    "print(a)\n",
    "print(b)\n",
    "b[1] = 100\n",
    "print(a) # bが変わるとaも一緒に代わってしまう\n",
    "print(b)\n",
    "\n",
    "print()\n",
    "\n",
    "a = np.array([1,2,3])\n",
    "b = np.array([4,5,6])\n",
    "# 深いコピー，別の配列としてコピー\n",
    "a[...] = b\n",
    "print(a)\n",
    "print(b)\n",
    "b[1] = 100\n",
    "print(a) # bが変わってもaはそのまま別の配列として保持される\n",
    "print(b)"
   ]
  },
  {
   "cell_type": "markdown",
   "metadata": {},
   "source": [
    "### 勾配の導出と逆伝搬の実装"
   ]
  },
  {
   "cell_type": "markdown",
   "metadata": {},
   "source": [
    "#### Sigmoidレイヤ\n",
    "シグモイド関数\n",
    "$$ y = \\frac{1}{1 + exp(-x)} $$\n",
    "シグモイド関数の微分\n",
    "$$ \\frac{\\partial y}{\\partial x} = y(1-y) $$\n",
    "順伝搬はシグモイド関数の計算結果，逆伝搬はシグモイド関数の微分をかけて返す  "
   ]
  },
  {
   "cell_type": "code",
   "execution_count": 20,
   "metadata": {},
   "outputs": [],
   "source": [
    "class Sigmoid:\n",
    "    def __init__(self):\n",
    "        self.params, self.grads = [], []\n",
    "        self.out = None\n",
    "    \n",
    "    def forward(self, x):\n",
    "        out = 1 / (1 + np.exp(-x))\n",
    "        self.out = out\n",
    "        return out\n",
    "    \n",
    "    def backward(self, dout):\n",
    "        dx = dout * (1.0 - self.out) * self.out\n",
    "        return dx"
   ]
  },
  {
   "cell_type": "markdown",
   "metadata": {},
   "source": [
    "#### Affineレイヤ"
   ]
  },
  {
   "cell_type": "markdown",
   "metadata": {},
   "source": [
    "ベクトルに行列をかけてバイアスを足すレイヤ  \n",
    "MatmulとRepeatの結果を加算するとより簡単に実装できるが，復習を兼ねて一から実装．"
   ]
  },
  {
   "cell_type": "code",
   "execution_count": 21,
   "metadata": {},
   "outputs": [],
   "source": [
    "class Affine:\n",
    "    def __init__(self, W, b):\n",
    "        self.params = [W, b]\n",
    "        self.grads = [np.zeros_like(W), np.zeros_like(b)]\n",
    "        self.x = None\n",
    "    \n",
    "    def forward(self, x):\n",
    "        W, b = self.params\n",
    "        out = np.dot(x, W) + b\n",
    "        self.x = x\n",
    "        return out\n",
    "    \n",
    "    def backward(self, dout):\n",
    "        W, b = self.params\n",
    "        dx = np.dot(dout, W.T)\n",
    "        dW = np.dot(self.x.T, dout)\n",
    "        db = np.sum(dout, axis=0)\n",
    "        \n",
    "        self.grads[0][...] = dW\n",
    "        self.grads[1][...] = db\n",
    "        return dx"
   ]
  },
  {
   "cell_type": "markdown",
   "metadata": {},
   "source": [
    "### 重みの更新\n",
    "勾配を使ってニューラルネットワークのパラメータを更新する．  \n",
    "1. ミニバッチ：訓練データの中からランダムに複数のデータを選び出す\n",
    "2. 勾配の算出：誤差逆伝搬法により，各重みパラメータに関する損失関数の勾配を求める\n",
    "3. パラメータの更新：勾配を使って重みパラメータを更新する\n",
    "4. 繰り返す：1～3を繰り返す  \n",
    "勾配降下法：勾配の逆方向に重みを更新することで損失を下げていく．  \n",
    "確率的勾配降下法（SGD）：ランダムに選ばれたデータ（ミニバッチ）に対する勾配を用いる．  \n",
    "$$ {\\bf W} \\leftarrow {\\bf W} - \\eta \\frac{\\partial L}{\\partial {\\bf W}} $$\n",
    "学習係数$\\eta$には0.01や0.001といった小さな値が入る．  "
   ]
  },
  {
   "cell_type": "code",
   "execution_count": 22,
   "metadata": {},
   "outputs": [],
   "source": [
    "class SGD:\n",
    "    def __init__(self, lr=0.01):\n",
    "        self.lr = lr\n",
    "    \n",
    "    def update(self, params, grads):\n",
    "        for i in range(len(params)):\n",
    "            params[i] -= self.lr * grads[i]"
   ]
  },
  {
   "cell_type": "markdown",
   "metadata": {},
   "source": [
    "# SGDを使った学習の疑似コード\n",
    "model = TwoLayerNet(...)\n",
    "optimizer = SGD()\n",
    "    \n",
    "# ミニバッチを取得して重みの更新，を10000回繰り返す\n",
    "for i in range(10000):\n",
    "    ...\n",
    "    x_batch, t_batch = get_mini_batch(...)\n",
    "    loss = model.forward(x_batch, t_batch)\n",
    "    model.backward()\n",
    "    optimizer.update(model.params, model.grads)\n",
    "    ..."
   ]
  },
  {
   "cell_type": "markdown",
   "metadata": {},
   "source": [
    "OptimizerにはMomentumやAdaGrad，Adamなどがある．"
   ]
  },
  {
   "cell_type": "markdown",
   "metadata": {},
   "source": [
    "## ニューラルネットワークで問題を解く"
   ]
  },
  {
   "cell_type": "markdown",
   "metadata": {},
   "source": [
    "#### スパイラルデータセット"
   ]
  },
  {
   "cell_type": "code",
   "execution_count": 23,
   "metadata": {},
   "outputs": [],
   "source": [
    "def load_spiral_data(seed=1984):\n",
    "    np.random.seed(seed)\n",
    "    N = 100  # クラスごとのサンプル数\n",
    "    DIM = 2  # データの要素数\n",
    "    CLS_NUM = 3  # クラス数\n",
    "\n",
    "    x = np.zeros((N*CLS_NUM, DIM))\n",
    "    t = np.zeros((N*CLS_NUM, CLS_NUM), dtype=np.int)\n",
    "\n",
    "    for j in range(CLS_NUM):\n",
    "        for i in range(N):#N*j, N*(j+1)):\n",
    "            rate = i / N\n",
    "            radius = 1.0*rate\n",
    "            theta = j*4.0 + 4.0*rate + np.random.randn()*0.2\n",
    "\n",
    "            ix = N*j + i\n",
    "            x[ix] = np.array([radius*np.sin(theta),\n",
    "                              radius*np.cos(theta)]).flatten()\n",
    "            t[ix, j] = 1\n",
    "\n",
    "    return x, t"
   ]
  },
  {
   "cell_type": "code",
   "execution_count": 24,
   "metadata": {},
   "outputs": [
    {
     "name": "stdout",
     "output_type": "stream",
     "text": [
      "x (300, 2)\n",
      "t (300, 3)\n"
     ]
    },
    {
     "data": {
      "image/png": "[encoded data removed]",
      "text/plain": [
       "<Figure size 432x288 with 1 Axes>"
      ]
     },
     "metadata": {
      "needs_background": "light"
     },
     "output_type": "display_data"
    }
   ],
   "source": [
    "import matplotlib.pyplot as plt\n",
    "x, t = load_spiral_data()\n",
    "print('x', x.shape)\n",
    "print('t', t.shape)\n",
    "\n",
    "# データ点のプロット\n",
    "N = 100\n",
    "CLS_NUM = 3\n",
    "markers = ['o', 'x', '^']\n",
    "for i in range(CLS_NUM):\n",
    "    plt.scatter(x[i*N:(i+1)*N, 0], x[i*N:(i+1)*N, 1], s=40, marker=markers[i])\n",
    "plt.show()"
   ]
  },
  {
   "cell_type": "markdown",
   "metadata": {},
   "source": [
    "非線形に分離しないといけない．"
   ]
  },
  {
   "cell_type": "code",
   "execution_count": 25,
   "metadata": {},
   "outputs": [],
   "source": [
    "class TwoLayerNet:\n",
    "    def __init__(self, input_size, hidden_size, output_size):\n",
    "        I, H, O = input_size, hidden_size, output_size\n",
    "        \n",
    "        # 重みとバイアスの初期化\n",
    "        W1 = 0.01 * np.random.randn(I, H)\n",
    "        b1 = np.zeros(H)\n",
    "        W2 = 0.01 * np.random.randn(H, O)\n",
    "        b2 = np.zeros(O)\n",
    "        \n",
    "        # レイヤの生成\n",
    "        self.layers = [\n",
    "            Affine(W1, b1),\n",
    "            Sigmoid(),\n",
    "            Affine(W2, b2)\n",
    "        ]\n",
    "        self.loss_layer = SoftmaxWithLoss()\n",
    "    \n",
    "        # すべての重みと勾配をリストにまとめる\n",
    "        self.params, self.grads = [], []\n",
    "        for layer in self.layers:\n",
    "            self.params += layer.params\n",
    "            self.grads += layer.grads\n",
    "    \n",
    "    def predict(self, x):\n",
    "        for layer in self.layers:\n",
    "            x = layer.forward(x)\n",
    "        return x\n",
    "    \n",
    "    def forward(self, x, t):\n",
    "        score = self.predict(x)\n",
    "        loss = self.loss_layer.forward(score, t)\n",
    "        return loss\n",
    "    \n",
    "    def backward(self, dout=1):\n",
    "        dout = self.loss_layer.backward(dout)\n",
    "        for layer in reversed(self.layers):\n",
    "            dout = layer.backward(dout)\n",
    "        return dout"
   ]
  },
  {
   "cell_type": "code",
   "execution_count": 34,
   "metadata": {},
   "outputs": [
    {
     "data": {
      "image/png": "[encoded data removed]",
      "text/plain": [
       "<Figure size 432x288 with 1 Axes>"
      ]
     },
     "metadata": {
      "needs_background": "light"
     },
     "output_type": "display_data"
    },
    {
     "data": {
      "image/png": "[encoded data removed]",
      "text/plain": [
       "<Figure size 432x288 with 1 Axes>"
      ]
     },
     "metadata": {
      "needs_background": "light"
     },
     "output_type": "display_data"
    }
   ],
   "source": [
    "# ハイパーパラメータの設定\n",
    "max_epoch = 300\n",
    "batch_size = 30\n",
    "hidden_size = 10\n",
    "learning_rate = 1.0\n",
    "\n",
    "# データの読み込み，モデルとオプティマイザの生成\n",
    "x, t = load_spiral_data()\n",
    "model = TwoLayerNet(input_size=2, hidden_size=hidden_size, output_size=3)\n",
    "optimizer = SGD(lr=learning_rate)\n",
    "\n",
    "# 学習で使用する変数\n",
    "data_size = len(x)\n",
    "max_iters = data_size // batch_size\n",
    "total_loss = 0\n",
    "loss_count = 0\n",
    "loss_list = []\n",
    "\n",
    "for epoch in range(max_epoch):\n",
    "    # データのシャッフル\n",
    "    idx = np.random.permutation(data_size)\n",
    "    x = x[idx]\n",
    "    t = t[idx]\n",
    "    \n",
    "    for iters in range(max_iters):\n",
    "        batch_x = x[iters*batch_size:(iters+1)*batch_size]\n",
    "        batch_t = t[iters*batch_size:(iters+1)*batch_size]\n",
    "    \n",
    "        loss = model.forward(batch_x, batch_t)\n",
    "        model.backward()\n",
    "        optimizer.update(model.params, model.grads)\n",
    "\n",
    "        total_loss += loss\n",
    "        loss_count += 1\n",
    "\n",
    "    if (iters+1) % 10 == 0:\n",
    "        avg_loss = total_loss / loss_count\n",
    "        # print('| epoch %d | iter %d / %d | loss %.2f |' % (epoch + 1, iters + 1, max_iters, avg_loss))\n",
    "        loss_list.append(avg_loss)\n",
    "        total_loss, loss_count = 0, 0\n",
    "\n",
    "# 学習の成果\n",
    "plt.plot(range(max_epoch), loss_list)\n",
    "plt.show()\n",
    "\n",
    "# 境界領域のプロット\n",
    "h = 0.001\n",
    "x_min, x_max = x[:, 0].min() - .1, x[:, 0].max() + .1\n",
    "y_min, y_max = x[:, 1].min() - .1, x[:, 1].max() + .1\n",
    "xx, yy = np.meshgrid(np.arange(x_min, x_max, h), np.arange(y_min, y_max, h))\n",
    "X = np.c_[xx.ravel(), yy.ravel()]\n",
    "score = model.predict(X)\n",
    "predict_cls = np.argmax(score, axis=1)\n",
    "Z = predict_cls.reshape(xx.shape)\n",
    "plt.contourf(xx, yy, Z)\n",
    "plt.axis('off')\n",
    "\n",
    "# データ点のプロット\n",
    "x, t = load_spiral_data()\n",
    "N = 100\n",
    "CLS_NUM = 3\n",
    "markers = ['o', 'x', '^']\n",
    "for i in range(CLS_NUM):\n",
    "    plt.scatter(x[i*N:(i+1)*N, 0], x[i*N:(i+1)*N, 1], s=40, marker=markers[i])\n",
    "plt.show()"
   ]
  },
  {
   "cell_type": "code",
   "execution_count": 35,
   "metadata": {},
   "outputs": [
    {
     "data": {
      "text/plain": [
       "array([3, 5, 0, 9, 7, 6, 1, 2, 4, 8])"
      ]
     },
     "execution_count": 35,
     "metadata": {},
     "output_type": "execute_result"
    }
   ],
   "source": [
    "# permutationについて\n",
    "# ランダムな0 ～ 10-1のインデックスのリストを生成\n",
    "np.random.permutation(10)"
   ]
  },
  {
   "cell_type": "markdown",
   "metadata": {},
   "source": [
    "以降，ニューラルネットワークの学習を実行する機会が多々ある．そのために必要なツールとして，common/trainer.pyを使う．  \n",
    "以下に使用例を示す．"
   ]
  },
  {
   "cell_type": "markdown",
   "metadata": {},
   "source": [
    "Trainerクラスのfitメソッドの引数  \n",
    "\n",
    "|引数|説明|\n",
    "|:--|:--|\n",
    "|x|入力データ|\n",
    "|t|教師ラベル|\n",
    "|max_epoch(=10)|学習を行うエポック数(データセットを周回する回数)|\n",
    "|batch_size(=32)|ミニバッチのサイズ|\n",
    "|eval_interval(=20)|設定したイテレーション回数ごとに平均損失などを出力|\n",
    "|max_grad(=None)|勾配の最大ノルム，勾配のノルムがこの値を超えた場合，勾配を小さくする|"
   ]
  },
  {
   "cell_type": "code",
   "execution_count": 37,
   "metadata": {},
   "outputs": [
    {
     "name": "stdout",
     "output_type": "stream",
     "text": [
      "| epoch 1 |  iter 1 / 10 | time 0[s] | loss 1.10\n",
      "| epoch 2 |  iter 1 / 10 | time 0[s] | loss 1.12\n",
      "| epoch 3 |  iter 1 / 10 | time 0[s] | loss 1.13\n",
      "| epoch 4 |  iter 1 / 10 | time 0[s] | loss 1.12\n",
      "| epoch 5 |  iter 1 / 10 | time 0[s] | loss 1.12\n",
      "| epoch 6 |  iter 1 / 10 | time 0[s] | loss 1.10\n",
      "| epoch 7 |  iter 1 / 10 | time 0[s] | loss 1.14\n",
      "| epoch 8 |  iter 1 / 10 | time 0[s] | loss 1.16\n",
      "| epoch 9 |  iter 1 / 10 | time 0[s] | loss 1.11\n",
      "| epoch 10 |  iter 1 / 10 | time 0[s] | loss 1.12\n",
      "| epoch 11 |  iter 1 / 10 | time 0[s] | loss 1.12\n",
      "| epoch 12 |  iter 1 / 10 | time 0[s] | loss 1.12\n",
      "| epoch 13 |  iter 1 / 10 | time 0[s] | loss 1.10\n",
      "| epoch 14 |  iter 1 / 10 | time 0[s] | loss 1.09\n",
      "| epoch 15 |  iter 1 / 10 | time 0[s] | loss 1.08\n",
      "| epoch 16 |  iter 1 / 10 | time 0[s] | loss 1.04\n",
      "| epoch 17 |  iter 1 / 10 | time 0[s] | loss 1.03\n",
      "| epoch 18 |  iter 1 / 10 | time 0[s] | loss 0.94\n",
      "| epoch 19 |  iter 1 / 10 | time 0[s] | loss 0.92\n",
      "| epoch 20 |  iter 1 / 10 | time 0[s] | loss 0.92\n",
      "| epoch 21 |  iter 1 / 10 | time 0[s] | loss 0.87\n",
      "| epoch 22 |  iter 1 / 10 | time 0[s] | loss 0.85\n",
      "| epoch 23 |  iter 1 / 10 | time 0[s] | loss 0.80\n",
      "| epoch 24 |  iter 1 / 10 | time 0[s] | loss 0.79\n",
      "| epoch 25 |  iter 1 / 10 | time 0[s] | loss 0.78\n",
      "| epoch 26 |  iter 1 / 10 | time 0[s] | loss 0.83\n",
      "| epoch 27 |  iter 1 / 10 | time 0[s] | loss 0.77\n",
      "| epoch 28 |  iter 1 / 10 | time 0[s] | loss 0.76\n",
      "| epoch 29 |  iter 1 / 10 | time 0[s] | loss 0.77\n",
      "| epoch 30 |  iter 1 / 10 | time 0[s] | loss 0.76\n",
      "| epoch 31 |  iter 1 / 10 | time 0[s] | loss 0.77\n",
      "| epoch 32 |  iter 1 / 10 | time 0[s] | loss 0.75\n",
      "| epoch 33 |  iter 1 / 10 | time 0[s] | loss 0.78\n",
      "| epoch 34 |  iter 1 / 10 | time 0[s] | loss 0.77\n",
      "| epoch 35 |  iter 1 / 10 | time 0[s] | loss 0.78\n",
      "| epoch 36 |  iter 1 / 10 | time 0[s] | loss 0.74\n",
      "| epoch 37 |  iter 1 / 10 | time 0[s] | loss 0.75\n",
      "| epoch 38 |  iter 1 / 10 | time 0[s] | loss 0.77\n",
      "| epoch 39 |  iter 1 / 10 | time 0[s] | loss 0.75\n",
      "| epoch 40 |  iter 1 / 10 | time 0[s] | loss 0.73\n",
      "| epoch 41 |  iter 1 / 10 | time 0[s] | loss 0.75\n",
      "| epoch 42 |  iter 1 / 10 | time 0[s] | loss 0.76\n",
      "| epoch 43 |  iter 1 / 10 | time 0[s] | loss 0.79\n",
      "| epoch 44 |  iter 1 / 10 | time 0[s] | loss 0.74\n",
      "| epoch 45 |  iter 1 / 10 | time 0[s] | loss 0.75\n",
      "| epoch 46 |  iter 1 / 10 | time 0[s] | loss 0.73\n",
      "| epoch 47 |  iter 1 / 10 | time 0[s] | loss 0.73\n",
      "| epoch 48 |  iter 1 / 10 | time 0[s] | loss 0.73\n",
      "| epoch 49 |  iter 1 / 10 | time 0[s] | loss 0.73\n",
      "| epoch 50 |  iter 1 / 10 | time 0[s] | loss 0.72\n",
      "| epoch 51 |  iter 1 / 10 | time 0[s] | loss 0.72\n",
      "| epoch 52 |  iter 1 / 10 | time 0[s] | loss 0.72\n",
      "| epoch 53 |  iter 1 / 10 | time 0[s] | loss 0.72\n",
      "| epoch 54 |  iter 1 / 10 | time 0[s] | loss 0.74\n",
      "| epoch 55 |  iter 1 / 10 | time 0[s] | loss 0.74\n",
      "| epoch 56 |  iter 1 / 10 | time 0[s] | loss 0.73\n",
      "| epoch 57 |  iter 1 / 10 | time 0[s] | loss 0.72\n",
      "| epoch 58 |  iter 1 / 10 | time 0[s] | loss 0.69\n",
      "| epoch 59 |  iter 1 / 10 | time 0[s] | loss 0.72\n",
      "| epoch 60 |  iter 1 / 10 | time 0[s] | loss 0.70\n",
      "| epoch 61 |  iter 1 / 10 | time 0[s] | loss 0.69\n",
      "| epoch 62 |  iter 1 / 10 | time 0[s] | loss 0.71\n",
      "| epoch 63 |  iter 1 / 10 | time 0[s] | loss 0.70\n",
      "| epoch 64 |  iter 1 / 10 | time 0[s] | loss 0.71\n",
      "| epoch 65 |  iter 1 / 10 | time 0[s] | loss 0.72\n",
      "| epoch 66 |  iter 1 / 10 | time 0[s] | loss 0.71\n",
      "| epoch 67 |  iter 1 / 10 | time 0[s] | loss 0.71\n",
      "| epoch 68 |  iter 1 / 10 | time 0[s] | loss 0.71\n",
      "| epoch 69 |  iter 1 / 10 | time 0[s] | loss 0.70\n",
      "| epoch 70 |  iter 1 / 10 | time 0[s] | loss 0.68\n",
      "| epoch 71 |  iter 1 / 10 | time 0[s] | loss 0.73\n",
      "| epoch 72 |  iter 1 / 10 | time 0[s] | loss 0.66\n",
      "| epoch 73 |  iter 1 / 10 | time 0[s] | loss 0.69\n",
      "| epoch 74 |  iter 1 / 10 | time 0[s] | loss 0.66\n",
      "| epoch 75 |  iter 1 / 10 | time 0[s] | loss 0.70\n",
      "| epoch 76 |  iter 1 / 10 | time 0[s] | loss 0.65\n",
      "| epoch 77 |  iter 1 / 10 | time 0[s] | loss 0.67\n",
      "| epoch 78 |  iter 1 / 10 | time 0[s] | loss 0.70\n",
      "| epoch 79 |  iter 1 / 10 | time 0[s] | loss 0.63\n",
      "| epoch 80 |  iter 1 / 10 | time 0[s] | loss 0.66\n",
      "| epoch 81 |  iter 1 / 10 | time 0[s] | loss 0.65\n",
      "| epoch 82 |  iter 1 / 10 | time 0[s] | loss 0.66\n",
      "| epoch 83 |  iter 1 / 10 | time 0[s] | loss 0.64\n",
      "| epoch 84 |  iter 1 / 10 | time 0[s] | loss 0.62\n",
      "| epoch 85 |  iter 1 / 10 | time 0[s] | loss 0.62\n",
      "| epoch 86 |  iter 1 / 10 | time 0[s] | loss 0.63\n",
      "| epoch 87 |  iter 1 / 10 | time 0[s] | loss 0.59\n",
      "| epoch 88 |  iter 1 / 10 | time 0[s] | loss 0.58\n",
      "| epoch 89 |  iter 1 / 10 | time 0[s] | loss 0.61\n",
      "| epoch 90 |  iter 1 / 10 | time 0[s] | loss 0.59\n",
      "| epoch 91 |  iter 1 / 10 | time 0[s] | loss 0.58\n",
      "| epoch 92 |  iter 1 / 10 | time 0[s] | loss 0.57\n",
      "| epoch 93 |  iter 1 / 10 | time 0[s] | loss 0.55\n",
      "| epoch 94 |  iter 1 / 10 | time 0[s] | loss 0.54\n",
      "| epoch 95 |  iter 1 / 10 | time 0[s] | loss 0.53\n",
      "| epoch 96 |  iter 1 / 10 | time 0[s] | loss 0.54\n",
      "| epoch 97 |  iter 1 / 10 | time 0[s] | loss 0.51\n",
      "| epoch 98 |  iter 1 / 10 | time 0[s] | loss 0.51\n",
      "| epoch 99 |  iter 1 / 10 | time 0[s] | loss 0.50\n",
      "| epoch 100 |  iter 1 / 10 | time 0[s] | loss 0.47\n",
      "| epoch 101 |  iter 1 / 10 | time 0[s] | loss 0.49\n",
      "| epoch 102 |  iter 1 / 10 | time 0[s] | loss 0.46\n",
      "| epoch 103 |  iter 1 / 10 | time 0[s] | loss 0.44\n",
      "| epoch 104 |  iter 1 / 10 | time 0[s] | loss 0.47\n",
      "| epoch 105 |  iter 1 / 10 | time 0[s] | loss 0.44\n",
      "| epoch 106 |  iter 1 / 10 | time 0[s] | loss 0.43\n",
      "| epoch 107 |  iter 1 / 10 | time 0[s] | loss 0.43\n",
      "| epoch 108 |  iter 1 / 10 | time 0[s] | loss 0.39\n",
      "| epoch 109 |  iter 1 / 10 | time 0[s] | loss 0.40\n",
      "| epoch 110 |  iter 1 / 10 | time 0[s] | loss 0.41\n",
      "| epoch 111 |  iter 1 / 10 | time 0[s] | loss 0.38\n",
      "| epoch 112 |  iter 1 / 10 | time 0[s] | loss 0.38\n",
      "| epoch 113 |  iter 1 / 10 | time 0[s] | loss 0.38\n",
      "| epoch 114 |  iter 1 / 10 | time 0[s] | loss 0.37\n",
      "| epoch 115 |  iter 1 / 10 | time 0[s] | loss 0.36\n",
      "| epoch 116 |  iter 1 / 10 | time 0[s] | loss 0.34\n",
      "| epoch 117 |  iter 1 / 10 | time 0[s] | loss 0.35\n",
      "| epoch 118 |  iter 1 / 10 | time 0[s] | loss 0.33\n",
      "| epoch 119 |  iter 1 / 10 | time 0[s] | loss 0.35\n",
      "| epoch 120 |  iter 1 / 10 | time 0[s] | loss 0.33\n",
      "| epoch 121 |  iter 1 / 10 | time 0[s] | loss 0.33\n",
      "| epoch 122 |  iter 1 / 10 | time 0[s] | loss 0.32\n",
      "| epoch 123 |  iter 1 / 10 | time 0[s] | loss 0.31\n",
      "| epoch 124 |  iter 1 / 10 | time 0[s] | loss 0.31\n",
      "| epoch 125 |  iter 1 / 10 | time 0[s] | loss 0.31\n",
      "| epoch 126 |  iter 1 / 10 | time 0[s] | loss 0.30\n",
      "| epoch 127 |  iter 1 / 10 | time 0[s] | loss 0.30\n",
      "| epoch 128 |  iter 1 / 10 | time 0[s] | loss 0.27\n",
      "| epoch 129 |  iter 1 / 10 | time 0[s] | loss 0.30\n",
      "| epoch 130 |  iter 1 / 10 | time 0[s] | loss 0.28\n",
      "| epoch 131 |  iter 1 / 10 | time 0[s] | loss 0.26\n",
      "| epoch 132 |  iter 1 / 10 | time 0[s] | loss 0.27\n",
      "| epoch 133 |  iter 1 / 10 | time 0[s] | loss 0.27\n",
      "| epoch 134 |  iter 1 / 10 | time 0[s] | loss 0.28\n",
      "| epoch 135 |  iter 1 / 10 | time 0[s] | loss 0.26\n",
      "| epoch 136 |  iter 1 / 10 | time 0[s] | loss 0.28\n",
      "| epoch 137 |  iter 1 / 10 | time 0[s] | loss 0.25\n",
      "| epoch 138 |  iter 1 / 10 | time 0[s] | loss 0.26\n",
      "| epoch 139 |  iter 1 / 10 | time 0[s] | loss 0.26\n",
      "| epoch 140 |  iter 1 / 10 | time 0[s] | loss 0.26\n",
      "| epoch 141 |  iter 1 / 10 | time 0[s] | loss 0.23\n",
      "| epoch 142 |  iter 1 / 10 | time 0[s] | loss 0.23\n",
      "| epoch 143 |  iter 1 / 10 | time 0[s] | loss 0.26\n",
      "| epoch 144 |  iter 1 / 10 | time 0[s] | loss 0.23\n",
      "| epoch 145 |  iter 1 / 10 | time 0[s] | loss 0.24\n",
      "| epoch 146 |  iter 1 / 10 | time 0[s] | loss 0.24\n",
      "| epoch 147 |  iter 1 / 10 | time 0[s] | loss 0.25\n",
      "| epoch 148 |  iter 1 / 10 | time 0[s] | loss 0.21\n",
      "| epoch 149 |  iter 1 / 10 | time 0[s] | loss 0.23\n",
      "| epoch 150 |  iter 1 / 10 | time 0[s] | loss 0.22\n",
      "| epoch 151 |  iter 1 / 10 | time 0[s] | loss 0.22\n",
      "| epoch 152 |  iter 1 / 10 | time 0[s] | loss 0.23\n",
      "| epoch 153 |  iter 1 / 10 | time 0[s] | loss 0.23\n",
      "| epoch 154 |  iter 1 / 10 | time 0[s] | loss 0.20\n",
      "| epoch 155 |  iter 1 / 10 | time 0[s] | loss 0.22\n",
      "| epoch 156 |  iter 1 / 10 | time 0[s] | loss 0.21\n",
      "| epoch 157 |  iter 1 / 10 | time 0[s] | loss 0.21\n",
      "| epoch 158 |  iter 1 / 10 | time 0[s] | loss 0.20\n",
      "| epoch 159 |  iter 1 / 10 | time 0[s] | loss 0.21\n",
      "| epoch 160 |  iter 1 / 10 | time 0[s] | loss 0.20\n",
      "| epoch 161 |  iter 1 / 10 | time 0[s] | loss 0.19\n",
      "| epoch 162 |  iter 1 / 10 | time 0[s] | loss 0.22\n",
      "| epoch 163 |  iter 1 / 10 | time 0[s] | loss 0.19\n",
      "| epoch 164 |  iter 1 / 10 | time 0[s] | loss 0.21\n",
      "| epoch 165 |  iter 1 / 10 | time 0[s] | loss 0.20\n",
      "| epoch 166 |  iter 1 / 10 | time 0[s] | loss 0.20\n",
      "| epoch 167 |  iter 1 / 10 | time 0[s] | loss 0.20\n",
      "| epoch 168 |  iter 1 / 10 | time 0[s] | loss 0.19\n",
      "| epoch 169 |  iter 1 / 10 | time 0[s] | loss 0.18\n",
      "| epoch 170 |  iter 1 / 10 | time 0[s] | loss 0.19\n",
      "| epoch 171 |  iter 1 / 10 | time 0[s] | loss 0.19\n",
      "| epoch 172 |  iter 1 / 10 | time 0[s] | loss 0.20\n",
      "| epoch 173 |  iter 1 / 10 | time 0[s] | loss 0.16\n",
      "| epoch 174 |  iter 1 / 10 | time 0[s] | loss 0.20\n",
      "| epoch 175 |  iter 1 / 10 | time 0[s] | loss 0.18\n",
      "| epoch 176 |  iter 1 / 10 | time 0[s] | loss 0.17\n",
      "| epoch 177 |  iter 1 / 10 | time 0[s] | loss 0.17\n",
      "| epoch 178 |  iter 1 / 10 | time 0[s] | loss 0.17\n",
      "| epoch 179 |  iter 1 / 10 | time 0[s] | loss 0.18\n"
     ]
    },
    {
     "name": "stdout",
     "output_type": "stream",
     "text": [
      "| epoch 180 |  iter 1 / 10 | time 0[s] | loss 0.19\n",
      "| epoch 181 |  iter 1 / 10 | time 0[s] | loss 0.17\n",
      "| epoch 182 |  iter 1 / 10 | time 0[s] | loss 0.18\n",
      "| epoch 183 |  iter 1 / 10 | time 0[s] | loss 0.16\n",
      "| epoch 184 |  iter 1 / 10 | time 0[s] | loss 0.18\n",
      "| epoch 185 |  iter 1 / 10 | time 0[s] | loss 0.18\n",
      "| epoch 186 |  iter 1 / 10 | time 0[s] | loss 0.17\n",
      "| epoch 187 |  iter 1 / 10 | time 0[s] | loss 0.17\n",
      "| epoch 188 |  iter 1 / 10 | time 0[s] | loss 0.18\n",
      "| epoch 189 |  iter 1 / 10 | time 0[s] | loss 0.16\n",
      "| epoch 190 |  iter 1 / 10 | time 0[s] | loss 0.16\n",
      "| epoch 191 |  iter 1 / 10 | time 0[s] | loss 0.17\n",
      "| epoch 192 |  iter 1 / 10 | time 0[s] | loss 0.17\n",
      "| epoch 193 |  iter 1 / 10 | time 0[s] | loss 0.16\n",
      "| epoch 194 |  iter 1 / 10 | time 0[s] | loss 0.16\n",
      "| epoch 195 |  iter 1 / 10 | time 0[s] | loss 0.16\n",
      "| epoch 196 |  iter 1 / 10 | time 0[s] | loss 0.17\n",
      "| epoch 197 |  iter 1 / 10 | time 0[s] | loss 0.16\n",
      "| epoch 198 |  iter 1 / 10 | time 0[s] | loss 0.17\n",
      "| epoch 199 |  iter 1 / 10 | time 0[s] | loss 0.16\n",
      "| epoch 200 |  iter 1 / 10 | time 0[s] | loss 0.14\n",
      "| epoch 201 |  iter 1 / 10 | time 0[s] | loss 0.16\n",
      "| epoch 202 |  iter 1 / 10 | time 0[s] | loss 0.16\n",
      "| epoch 203 |  iter 1 / 10 | time 0[s] | loss 0.15\n",
      "| epoch 204 |  iter 1 / 10 | time 0[s] | loss 0.16\n",
      "| epoch 205 |  iter 1 / 10 | time 0[s] | loss 0.14\n",
      "| epoch 206 |  iter 1 / 10 | time 0[s] | loss 0.16\n",
      "| epoch 207 |  iter 1 / 10 | time 0[s] | loss 0.16\n",
      "| epoch 208 |  iter 1 / 10 | time 0[s] | loss 0.14\n",
      "| epoch 209 |  iter 1 / 10 | time 0[s] | loss 0.15\n",
      "| epoch 210 |  iter 1 / 10 | time 0[s] | loss 0.16\n",
      "| epoch 211 |  iter 1 / 10 | time 0[s] | loss 0.14\n",
      "| epoch 212 |  iter 1 / 10 | time 0[s] | loss 0.15\n",
      "| epoch 213 |  iter 1 / 10 | time 0[s] | loss 0.15\n",
      "| epoch 214 |  iter 1 / 10 | time 0[s] | loss 0.15\n",
      "| epoch 215 |  iter 1 / 10 | time 0[s] | loss 0.14\n",
      "| epoch 216 |  iter 1 / 10 | time 0[s] | loss 0.14\n",
      "| epoch 217 |  iter 1 / 10 | time 0[s] | loss 0.15\n",
      "| epoch 218 |  iter 1 / 10 | time 0[s] | loss 0.14\n",
      "| epoch 219 |  iter 1 / 10 | time 0[s] | loss 0.15\n",
      "| epoch 220 |  iter 1 / 10 | time 0[s] | loss 0.15\n",
      "| epoch 221 |  iter 1 / 10 | time 0[s] | loss 0.14\n",
      "| epoch 222 |  iter 1 / 10 | time 0[s] | loss 0.13\n",
      "| epoch 223 |  iter 1 / 10 | time 0[s] | loss 0.15\n",
      "| epoch 224 |  iter 1 / 10 | time 0[s] | loss 0.14\n",
      "| epoch 225 |  iter 1 / 10 | time 0[s] | loss 0.16\n",
      "| epoch 226 |  iter 1 / 10 | time 0[s] | loss 0.12\n",
      "| epoch 227 |  iter 1 / 10 | time 0[s] | loss 0.13\n",
      "| epoch 228 |  iter 1 / 10 | time 0[s] | loss 0.15\n",
      "| epoch 229 |  iter 1 / 10 | time 0[s] | loss 0.14\n",
      "| epoch 230 |  iter 1 / 10 | time 0[s] | loss 0.13\n",
      "| epoch 231 |  iter 1 / 10 | time 0[s] | loss 0.14\n",
      "| epoch 232 |  iter 1 / 10 | time 0[s] | loss 0.13\n",
      "| epoch 233 |  iter 1 / 10 | time 0[s] | loss 0.13\n",
      "| epoch 234 |  iter 1 / 10 | time 0[s] | loss 0.14\n",
      "| epoch 235 |  iter 1 / 10 | time 0[s] | loss 0.13\n",
      "| epoch 236 |  iter 1 / 10 | time 0[s] | loss 0.12\n",
      "| epoch 237 |  iter 1 / 10 | time 0[s] | loss 0.13\n",
      "| epoch 238 |  iter 1 / 10 | time 0[s] | loss 0.14\n",
      "| epoch 239 |  iter 1 / 10 | time 0[s] | loss 0.14\n",
      "| epoch 240 |  iter 1 / 10 | time 0[s] | loss 0.13\n",
      "| epoch 241 |  iter 1 / 10 | time 0[s] | loss 0.14\n",
      "| epoch 242 |  iter 1 / 10 | time 0[s] | loss 0.13\n",
      "| epoch 243 |  iter 1 / 10 | time 0[s] | loss 0.13\n",
      "| epoch 244 |  iter 1 / 10 | time 0[s] | loss 0.14\n",
      "| epoch 245 |  iter 1 / 10 | time 0[s] | loss 0.12\n",
      "| epoch 246 |  iter 1 / 10 | time 0[s] | loss 0.13\n",
      "| epoch 247 |  iter 1 / 10 | time 0[s] | loss 0.13\n",
      "| epoch 248 |  iter 1 / 10 | time 0[s] | loss 0.12\n",
      "| epoch 249 |  iter 1 / 10 | time 0[s] | loss 0.14\n",
      "| epoch 250 |  iter 1 / 10 | time 0[s] | loss 0.12\n",
      "| epoch 251 |  iter 1 / 10 | time 0[s] | loss 0.13\n",
      "| epoch 252 |  iter 1 / 10 | time 0[s] | loss 0.13\n",
      "| epoch 253 |  iter 1 / 10 | time 0[s] | loss 0.12\n",
      "| epoch 254 |  iter 1 / 10 | time 0[s] | loss 0.12\n",
      "| epoch 255 |  iter 1 / 10 | time 0[s] | loss 0.13\n",
      "| epoch 256 |  iter 1 / 10 | time 0[s] | loss 0.12\n",
      "| epoch 257 |  iter 1 / 10 | time 0[s] | loss 0.12\n",
      "| epoch 258 |  iter 1 / 10 | time 0[s] | loss 0.12\n",
      "| epoch 259 |  iter 1 / 10 | time 0[s] | loss 0.13\n",
      "| epoch 260 |  iter 1 / 10 | time 0[s] | loss 0.13\n",
      "| epoch 261 |  iter 1 / 10 | time 0[s] | loss 0.11\n",
      "| epoch 262 |  iter 1 / 10 | time 0[s] | loss 0.13\n",
      "| epoch 263 |  iter 1 / 10 | time 0[s] | loss 0.12\n",
      "| epoch 264 |  iter 1 / 10 | time 0[s] | loss 0.11\n",
      "| epoch 265 |  iter 1 / 10 | time 0[s] | loss 0.14\n",
      "| epoch 266 |  iter 1 / 10 | time 0[s] | loss 0.11\n",
      "| epoch 267 |  iter 1 / 10 | time 0[s] | loss 0.13\n",
      "| epoch 268 |  iter 1 / 10 | time 0[s] | loss 0.11\n",
      "| epoch 269 |  iter 1 / 10 | time 0[s] | loss 0.13\n",
      "| epoch 270 |  iter 1 / 10 | time 0[s] | loss 0.11\n",
      "| epoch 271 |  iter 1 / 10 | time 0[s] | loss 0.12\n",
      "| epoch 272 |  iter 1 / 10 | time 0[s] | loss 0.12\n",
      "| epoch 273 |  iter 1 / 10 | time 0[s] | loss 0.12\n",
      "| epoch 274 |  iter 1 / 10 | time 0[s] | loss 0.12\n",
      "| epoch 275 |  iter 1 / 10 | time 0[s] | loss 0.12\n",
      "| epoch 276 |  iter 1 / 10 | time 0[s] | loss 0.12\n",
      "| epoch 277 |  iter 1 / 10 | time 0[s] | loss 0.11\n",
      "| epoch 278 |  iter 1 / 10 | time 0[s] | loss 0.13\n",
      "| epoch 279 |  iter 1 / 10 | time 0[s] | loss 0.11\n",
      "| epoch 280 |  iter 1 / 10 | time 0[s] | loss 0.10\n",
      "| epoch 281 |  iter 1 / 10 | time 0[s] | loss 0.12\n",
      "| epoch 282 |  iter 1 / 10 | time 0[s] | loss 0.11\n",
      "| epoch 283 |  iter 1 / 10 | time 0[s] | loss 0.12\n",
      "| epoch 284 |  iter 1 / 10 | time 0[s] | loss 0.11\n",
      "| epoch 285 |  iter 1 / 10 | time 0[s] | loss 0.11\n",
      "| epoch 286 |  iter 1 / 10 | time 0[s] | loss 0.12\n",
      "| epoch 287 |  iter 1 / 10 | time 0[s] | loss 0.11\n",
      "| epoch 288 |  iter 1 / 10 | time 0[s] | loss 0.11\n",
      "| epoch 289 |  iter 1 / 10 | time 0[s] | loss 0.12\n",
      "| epoch 290 |  iter 1 / 10 | time 0[s] | loss 0.11\n",
      "| epoch 291 |  iter 1 / 10 | time 0[s] | loss 0.11\n",
      "| epoch 292 |  iter 1 / 10 | time 0[s] | loss 0.11\n",
      "| epoch 293 |  iter 1 / 10 | time 0[s] | loss 0.11\n",
      "| epoch 294 |  iter 1 / 10 | time 0[s] | loss 0.11\n",
      "| epoch 295 |  iter 1 / 10 | time 0[s] | loss 0.11\n",
      "| epoch 296 |  iter 1 / 10 | time 0[s] | loss 0.12\n",
      "| epoch 297 |  iter 1 / 10 | time 0[s] | loss 0.11\n",
      "| epoch 298 |  iter 1 / 10 | time 0[s] | loss 0.11\n",
      "| epoch 299 |  iter 1 / 10 | time 0[s] | loss 0.11\n",
      "| epoch 300 |  iter 1 / 10 | time 0[s] | loss 0.11\n"
     ]
    },
    {
     "data": {
      "image/png": "[encoded data removed]",
      "text/plain": [
       "<Figure size 432x288 with 1 Axes>"
      ]
     },
     "metadata": {
      "needs_background": "light"
     },
     "output_type": "display_data"
    }
   ],
   "source": [
    "from common.optimizer import SGD\n",
    "from common.trainer import Trainer\n",
    "from dataset import spiral\n",
    "from ch01.two_layer_net import TwoLayerNet\n",
    "\n",
    "max_epoch = 300\n",
    "batch_size = 30\n",
    "hidden_size = 10\n",
    "learning_rate = 1.0\n",
    "\n",
    "x, t = spiral.load_data()\n",
    "model = TwoLayerNet(input_size=2, hidden_size=hidden_size, output_size=3)\n",
    "optimizer = SGD(lr=learning_rate)\n",
    "\n",
    "trainer = Trainer(model, optimizer)\n",
    "trainer.fit(x, t, max_epoch, batch_size, eval_interval=10)\n",
    "trainer.plot()"
   ]
  },
  {
   "cell_type": "markdown",
   "metadata": {},
   "source": [
    "## 計算の高速化\n",
    "ビット精度とGPU"
   ]
  },
  {
   "cell_type": "markdown",
   "metadata": {},
   "source": [
    "### ビット精度\n",
    "Numpyの精度は標準で64ビット"
   ]
  },
  {
   "cell_type": "code",
   "execution_count": 38,
   "metadata": {},
   "outputs": [
    {
     "data": {
      "text/plain": [
       "dtype('float64')"
      ]
     },
     "execution_count": 38,
     "metadata": {},
     "output_type": "execute_result"
    }
   ],
   "source": [
    "a = np.random.randn(3)\n",
    "a.dtype"
   ]
  },
  {
   "cell_type": "markdown",
   "metadata": {},
   "source": [
    "しかし，32bitで十分なことが知られているので，優先的に32bitで計算をおこなっていく"
   ]
  },
  {
   "cell_type": "code",
   "execution_count": 39,
   "metadata": {},
   "outputs": [
    {
     "name": "stdout",
     "output_type": "stream",
     "text": [
      "float32\n",
      "float32\n"
     ]
    }
   ],
   "source": [
    "b = np.random.randn(3).astype(np.float32)\n",
    "print(b.dtype)\n",
    "\n",
    "c = np.random.randn(3).astype('f')\n",
    "print(c.dtype)"
   ]
  },
  {
   "cell_type": "markdown",
   "metadata": {},
   "source": [
    "もっというと16bitで推論の精度はほとんど落ちないが，GPUの計算は基本32bitで行われるため，あまり恩恵を受けられない．  \n",
    "学習した重みを保存する時，16bitに変換する．  \n",
    "しかし最近では16bitをサポートするGPUもこのために増えてきた．  \n",
    "GoogleのTPUと呼ばれる独自チップは8bit計算が可能"
   ]
  },
  {
   "cell_type": "markdown",
   "metadata": {},
   "source": [
    "#### GPU(CuPy)\n",
    "ディープラーニングにおける大量の積和演算は，GPUによって並列計算するのが早い．  \n",
    "GPUを使った並列計算を行うには，cupyを用いる．  \n",
    "NVIDIA製のGPUを使い，CUDAと呼ばれるGPU向け汎用並列コンピューティングプラットフォームをインストールする必要がある．  \n",
    "cupyは，numpyとほぼ同じインタフェースを持つ．  "
   ]
  },
  {
   "cell_type": "code",
   "execution_count": 40,
   "metadata": {},
   "outputs": [
    {
     "name": "stdout",
     "output_type": "stream",
     "text": [
      "[[0. 1. 2.]\n",
      " [3. 4. 5.]]\n",
      "[ 3. 12.]\n"
     ]
    }
   ],
   "source": [
    "# import cupy as cp\n",
    "import numpy as cp\n",
    "x = cp.arange(6).reshape(2,3).astype('f')\n",
    "print(x)\n",
    "print(x.sum(axis=1))"
   ]
  },
  {
   "cell_type": "markdown",
   "metadata": {},
   "source": [
    "4章からはGPU計算が必要になってくる．  \n",
    "CPUでは数時間かかるが，GPUなら数十分で終わる．  \n",
    "common/config.GPUをTrueにすることでcupyによるGPU計算を実行できる．"
   ]
  }
 ],
 "metadata": {
  "kernelspec": {
   "display_name": "Python 3",
   "language": "python",
   "name": "python3"
  },
  "language_info": {
   "codemirror_mode": {
    "name": "ipython",
    "version": 3
   },
   "file_extension": ".py",
   "mimetype": "text/x-python",
   "name": "python",
   "nbconvert_exporter": "python",
   "pygments_lexer": "ipython3",
   "version": "3.7.0"
  }
 },
 "nbformat": 4,
 "nbformat_minor": 2
}
