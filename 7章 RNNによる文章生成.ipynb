{
 "cells": [
  {
   "cell_type": "code",
   "execution_count": 1,
   "metadata": {},
   "outputs": [],
   "source": [
    "import numpy as np\n",
    "import matplotlib.pyplot as plt\n",
    "%matplotlib inline"
   ]
  },
  {
   "cell_type": "markdown",
   "metadata": {},
   "source": [
    "RNNやLSTMを使った楽しいアプリケーション\n",
    "- コーパスを使って学習した言語モデルを使った文章生成とその改良  \n",
    "- seq2seq(sequence to sequence)\n",
    "    - 2つのRNNを組み合わせて実装する\n",
    "    - 機械翻訳やチャットボット，メールの自動返信などに使える"
   ]
  },
  {
   "cell_type": "markdown",
   "metadata": {},
   "source": [
    "# 言語モデルを使った文章生成"
   ]
  },
  {
   "cell_type": "markdown",
   "metadata": {},
   "source": [
    "## RNNによる文章生成の手順\n",
    "例えば，\n",
    "<div style=\"text-align: center\">you say goodbye and I say Hello . </div>  \n",
    "\n",
    "というコーパスで学習を行った言語モデルでは，「I」を入力すると次に出現する単語は「say」の確率が高くなる．  \n",
    "このことを利用して文章生成ができる．  \n",
    "<br>\n",
    "もっとも確率の高い単語を選び続ければ結果は一意に定まってしまう．(決定的なアルゴリズム)  \n",
    "しかし，確率的に単語を選べば毎回異なった文章が生成できる．  \n",
    "この作業を望む回数だけ，または<eos\\>のような文末記号が出現するまで繰り返す．  \n",
    "このようにしてできた文章は，訓練データには存在しない文章の並びになりうる．  "
   ]
  },
  {
   "cell_type": "markdown",
   "metadata": {},
   "source": [
    "## 文章生成の実装\n",
    "前章で実装したRnnlmクラスをベースに，それを継承してRnnlmGenクラスを生成する.  \n",
    "このクラスに文章生成を行うメソッドを追加する．"
   ]
  },
  {
   "cell_type": "code",
   "execution_count": 6,
   "metadata": {},
   "outputs": [],
   "source": [
    "from common.functions import softmax\n",
    "from ch06.rnnlm import Rnnlm\n",
    "from ch06.better_rnnlm import BetterRnnlm\n",
    "\n",
    "class RnnlmGen(Rnnlm):\n",
    "    def generate(self, start_id, skip_ids=None, sample_size=100):\n",
    "        \"\"\"\n",
    "        言語モデルから文章の生成を行う．\n",
    "        \n",
    "        Parameters\n",
    "        --------------\n",
    "        start_id: int\n",
    "            文章生成の際の最初の単語のID\n",
    "        skip_ids: Array<int>\n",
    "            文章生成の際サンプリングしたくない単語のID\n",
    "            PTBデータセットの<unk>(レアな単語)やN(数値)などの前処理されたデータをサンプリングしないようにする用途で使う\n",
    "        sample_size: int = 100\n",
    "            生成する文章の長さ\n",
    "        \"\"\"\n",
    "        word_ids = [start_id]\n",
    "        \n",
    "        x = start_id\n",
    "        while len(word_ids) < sample_size:\n",
    "            x = np.array(x).reshape(1, 1) # 文章の長さ1,バッチサイズも1の入力データに変換\n",
    "            score = self.predict(x) # 次の単語を予測\n",
    "            p = softmax(score.flatten()) # 予測結果の確率分布を取得(softmaxで正規化)\n",
    "            \n",
    "            sampled = np.random.choice(len(p), size=1, p=p) # 予測結果の確率分布を使ってp個の単語の中から次の単語1個をサンプル\n",
    "            \n",
    "            if (skip_ids is None) or (sampled not in skip_ids): # skip_idが空ならSkip_IDの探索を行わない\n",
    "                x = sampled # Skipワードでなければこの単語を次の探索に使う\n",
    "                word_ids.append(int(x))\n",
    "        \n",
    "        return word_ids # 生成された文章"
   ]
  },
  {
   "cell_type": "markdown",
   "metadata": {},
   "source": [
    "まずは重みパラメータがランダムな初期値の状態で文章作成を行わせてみる．"
   ]
  },
  {
   "cell_type": "code",
   "execution_count": 13,
   "metadata": {},
   "outputs": [
    {
     "name": "stdout",
     "output_type": "stream",
     "text": [
      "you get the people.\n",
      " we 'll have offered sound to approach wood.\n",
      " the game 's effort has shown in australia or the additional year because of which the grocery circuit plans to assist in reins the vice securities known as directors of manufacturers hanover corp. 's employee plans to be provided impact on the problem.\n",
      " state the losses are bonuses at the number of expires tomorrow.\n",
      " the largest u.s. operations is increasingly offset by tuesday 's goal but expensive purchases by itself morgan competitive authorities said.\n",
      " roberti sciences studies typically trust to redeem steadily customers\n"
     ]
    }
   ],
   "source": [
    "from dataset import ptb\n",
    "\n",
    "corpus, word_to_id, id_to_word = ptb.load_data('train')\n",
    "vocab_size = len(word_to_id)\n",
    "corpus_size = len(corpus)\n",
    "\n",
    "model = RnnlmGen()\n",
    "model.load_params('./ch06/Rnnlm.pkl')\n",
    "\n",
    "# start文字とskip文字の設定\n",
    "start_word = 'you'\n",
    "start_id = word_to_id[start_word]\n",
    "skip_words = ['N', '<unk>', '$']\n",
    "skip_ids = [word_to_id[w] for w in skip_words]\n",
    "\n",
    "# 文章生成\n",
    "word_ids = model.generate(start_id, skip_ids)\n",
    "txt = ' '.join([id_to_word[i] for i in word_ids])\n",
    "txt = txt.replace(' <eos>', '.\\n')\n",
    "print(txt)"
   ]
  },
  {
   "cell_type": "markdown",
   "metadata": {},
   "source": [
    "初期値で文章を生成した結果の一例  \n",
    "<br>\n",
    "you heating destroying split yale proteins teacher flowing shoulder collection knowledgeable whitten pence cancer balance buildings geared profession growing tonight hud compounded franchisers still cooperative reitman settlement benjamin bail lenses johns sometimes processing quickly arab wins edge men asia louis rate statute short destruction founded contrast potato robust steadily net either shapiro contest begins participate buffer accounted cautiously travel embraced refunding merchandising passenger referring issuer shaking ring vintage largest john passion resign urged them poland sandinistas anderson native dominates tire bruce justified istat des dean westridge perceptions talk enough brisk handed airline foot panic sedan scores transport exodus 24-hour championship  \n",
    "<br>\n",
    "でたらめである．"
   ]
  },
  {
   "cell_type": "markdown",
   "metadata": {},
   "source": [
    "学習済みのパラメータを使って文章を生成した結果の一例  \n",
    "<br>\n",
    "you get the people.\n",
    "we 'll have offered sound to approach wood.\n",
    "the game 's effort has shown in australia or the additional year because of which the grocery circuit plans to assist in reins the vice securities known as directors of manufacturers hanover corp. 's employee plans to be provided impact on the problem.\n",
    "state the losses are bonuses at the number of expires tomorrow.\n",
    "the largest u.s. operations is increasingly offset by tuesday 's goal but expensive purchases by itself morgan competitive authorities said.\n",
    "roberti sciences studies typically trust to redeem steadily customers  \n",
    "<br>\n",
    "文法的に正しい文章もあるようだが，意味の通じない文章も散見される．"
   ]
  },
  {
   "cell_type": "markdown",
   "metadata": {},
   "source": [
    "## さらに良い文章へ\n"
   ]
  }
 ],
 "metadata": {
  "kernelspec": {
   "display_name": "Python 3",
   "language": "python",
   "name": "python3"
  },
  "language_info": {
   "codemirror_mode": {
    "name": "ipython",
    "version": 3
   },
   "file_extension": ".py",
   "mimetype": "text/x-python",
   "name": "python",
   "nbconvert_exporter": "python",
   "pygments_lexer": "ipython3",
   "version": "3.7.0"
  }
 },
 "nbformat": 4,
 "nbformat_minor": 2
}
