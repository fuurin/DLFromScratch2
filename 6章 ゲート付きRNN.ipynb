{
 "cells": [
  {
   "cell_type": "code",
   "execution_count": 25,
   "metadata": {},
   "outputs": [],
   "source": [
    "import numpy as np\n",
    "import matplotlib.pyplot as plt\n",
    "%matplotlib inline"
   ]
  },
  {
   "cell_type": "markdown",
   "metadata": {},
   "source": [
    "前章で見たRNNは「シンプルなRNN」や「エルマン」と呼ばれ，時系列データの彫金お依存関係をうまく学習することができない問題点があった．  \n",
    "最近ではRNNという言葉が使われるときにはLSTMであることが多く見受けられる．  \n",
    "LSTMやGRUには「ゲート」と呼ばれる仕組みを持ち，長期的な依存関係を学習することができるようになっている．  \n",
    "<br>\n",
    "この章では「ゲート付きRNN」をテーマにLSTMを使って言語モデルを作り，実際のデータでうまく学習できる事を示す．"
   ]
  },
  {
   "cell_type": "markdown",
   "metadata": {},
   "source": [
    "# RNNの問題点\n",
    "RNNはBPTT（Backpropergation Through Time)において勾配消失もしくは勾配爆発が起こるため，長期記憶を苦手としている．  \n",
    "RNNが長期記憶を苦手とする理由を実例を使って見ていく．"
   ]
  },
  {
   "cell_type": "markdown",
   "metadata": {},
   "source": [
    "## RNNの復習\n",
    "RNNレイヤはループする経路を持ち，展開すると横に長く伸びるネットワークになる．  \n",
    "RNNレイヤは時系列データ$x_1, x_2, ... x_t$を入力として持ち$h_1, h_2, ..., h_t$を出力する．  \n",
    "この$h_t$はRNNレイヤの**隠れ状態**と呼ばれ，過去からの情報が記憶されており，各時刻におけるRNNレイヤは，一つ前の時刻の隠れ状態を利用する．  \n",
    "$x_t, h_{t-1}$から$h_t$を出力する式は以下のようになり，この式にしたがってRNNレイヤを構成する．\n",
    "$$h_t = \\tanh( h_{t-1} W_h + x_t W_x+ b ) $$"
   ]
  },
  {
   "cell_type": "markdown",
   "metadata": {},
   "source": [
    "## 勾配消失もしくは勾配爆発\n",
    "前章のRNNLMのような言語モデルが行うことは，これまでに与えられた単語から次に出現する単語を予測すること．  \n",
    "例えば，\n",
    "    <div style=\"text-align: center\">Tom was watching TV in his room. Mary came into the room. Mary said hi to [?]</div>\n",
    "    \n",
    "という文章について，[?]に入る単語はTomになる．  \n",
    "RNNLMに正解ラベルとしてTomという単語が与えられたとき，勾配がどのように伝播するかを考えてみる．  \n",
    "本来，勾配には学習すべき意味のある情報が入っており，過去に向かって伝わっていく.  \n",
    "しかし，もしこの勾配が途中で弱まってしまったら，過去にいくほど重みパラメータは更新されなくなってしまう．  \n",
    "残念ながら，シンプルなRNNでは時間を遡るにしたがって勾配が小さくなっていく(勾配消失)もしくは無駄に大きくなっていく(勾配爆発)がほとんどである．"
   ]
  },
  {
   "cell_type": "markdown",
   "metadata": {},
   "source": [
    "## 勾配消失もしくは勾配爆発の原因\n",
    "RNNレイヤの時間方向だけの勾配の伝播だけに着目してみる  \n",
    "RNNレイヤの活性化関数であるtanhとtanhの微分をそれぞれグラフにしてみる．"
   ]
  },
  {
   "cell_type": "code",
   "execution_count": 26,
   "metadata": {
    "scrolled": true
   },
   "outputs": [
    {
     "data": {
      "image/png": "[encoded data removed]",
      "text/plain": [
       "<Figure size 432x288 with 1 Axes>"
      ]
     },
     "metadata": {
      "needs_background": "light"
     },
     "output_type": "display_data"
    }
   ],
   "source": [
    "import math\n",
    "\n",
    "x = np.arange(-5, 5, 0.01)\n",
    "tanh = np.array([math.tanh(x_i) for x_i in x])\n",
    "tanh_prime = 1 - pow(tanh, 2)\n",
    "plt.plot(x, tanh, label=\"tanh(x)\")\n",
    "plt.plot(x, tanh_prime, label=\"dy/dx\")\n",
    "plt.legend() # matplotlibの凡例: https://qiita.com/matsui-k20xx/items/291400ed56a39ed63462\n",
    "plt.show()"
   ]
  },
  {
   "cell_type": "markdown",
   "metadata": {},
   "source": [
    "このグラフの通り，dy/dxは最大値が1.0であり，そこから離れるごとに0に近づくので，このtanhノードを通るたびに勾配は小さくなっていく．  \n",
    "T回tanhを通過すればT回値が小さくなる． これが勾配消失の原因になっている．  \n",
    "活性化関数にReLUを使えば，ReLUの式$\\max(0, x)$を使って上流の勾配をそのまま下流に伝えることができ．勾配の劣化を起こさず性能が向上することがわかっている．"
   ]
  },
  {
   "cell_type": "markdown",
   "metadata": {},
   "source": [
    "次にMatMulノードの逆伝播を見てみる．  \n",
    "MatMulノードの逆伝播では$dhW_h^\\top$による行列の積によって勾配が計算される．  \n",
    "この行列の席の計算では，毎回同じ重み$W_h$が使われることに注意する．  \n",
    "逆伝播の際の勾配の値は，MatMulノードを通るのに従ってどのように変化していくのかを観察してみる．  "
   ]
  },
  {
   "cell_type": "code",
   "execution_count": 27,
   "metadata": {},
   "outputs": [
    {
     "data": {
      "image/png": "[encoded data removed]",
      "text/plain": [
       "<Figure size 432x288 with 1 Axes>"
      ]
     },
     "metadata": {
      "needs_background": "light"
     },
     "output_type": "display_data"
    }
   ],
   "source": [
    "N = 2 # バッチサイズ\n",
    "H = 3 # 隠れ状態ベクトルの次元数\n",
    "T = 20 # 時系列データの長さ\n",
    "\n",
    "dh = np.ones((N, H)) # 上からやってくる勾配の計算\n",
    "# np.random.seed(3) # 再現性のため乱数のシードを固定\n",
    "Wh = np.random.randn(H, H) # 実験1,重みの初期値そのまま\n",
    "\n",
    "norm_list = []\n",
    "for t in range(T):\n",
    "    dh = np.dot(dh, Wh.T) # MatMulノードの逆伝播の計算\n",
    "    norm = np.sqrt(np.sum(dh**2)) / N # L2ノルムで行列全体の大きさの相場をスカラで表す\n",
    "    norm_list.append(norm)\n",
    "\n",
    "plt.scatter(range(T), norm_list)\n",
    "plt.show()"
   ]
  },
  {
   "cell_type": "markdown",
   "metadata": {},
   "source": [
    "グラフから分かるように，勾配の大きさは時間とともに指数的に増加する．これが**勾配爆発**である．  \n",
    "最終的にはオーバーフローを起こしてNaNのような値が発生してしまう．  "
   ]
  },
  {
   "cell_type": "code",
   "execution_count": 28,
   "metadata": {},
   "outputs": [
    {
     "data": {
      "image/png": "[encoded data removed]",
      "text/plain": [
       "<Figure size 432x288 with 1 Axes>"
      ]
     },
     "metadata": {
      "needs_background": "light"
     },
     "output_type": "display_data"
    }
   ],
   "source": [
    "Wh = np.random.randn(H, H) * 0.5 # 実験2, 重みの初期値に0.5をかける\n",
    "\n",
    "norm_list = []\n",
    "for t in range(T):\n",
    "    dh = np.dot(dh, Wh.T) # MatMulノードの逆伝播の計算\n",
    "    norm = np.sqrt(np.sum(dh**2)) / N # L2ノルムで行列全体の大きさの相場をスカラで表す\n",
    "    norm_list.append(norm)\n",
    "\n",
    "plt.scatter(range(T), norm_list)\n",
    "plt.show()"
   ]
  },
  {
   "cell_type": "markdown",
   "metadata": {},
   "source": [
    "逆に，重みの初期値を小さくしてみると，**勾配消失**が発生する．  \n",
    "Tが大きいとき，$W_h$は今行列だが，例えばスカラであるとすると，$W_h$が1より大きいときには勾配爆発，小さいときには勾配消失が起きるというイメージになる.  \n"
   ]
  },
  {
   "cell_type": "markdown",
   "metadata": {},
   "source": [
    "$W_h$が今のように行列の場合は，行列の「特異値」が勾配爆発，もしくは消失の指標となる．  \n",
    "行列の「特異値」は，データにどれだけ広がりがあるかをあらわし，これが1より大きいかどうかで，勾配の大きさの変化を予測することができる．  \n",
    "RNNの勾配消失/爆発については文献[30]に譲るが，特異値が1より大きい ⇦ 勾配爆発が発生 であり，ここでは必要条件となっていることに注意する．  \n",
    "しかし， 特異値が1より小さい ⇨ 勾配消失が発生 は成り立つ．"
   ]
  },
  {
   "cell_type": "markdown",
   "metadata": {},
   "source": [
    "## 勾配爆発への対策\n",
    "勾配クリッピング\n",
    "$$ \\rm{if} ||\\hat{g}|| \\geq threshold: \\hat{g} = \\frac {threshold} {||\\hat{g}||} \\hat{g} $$\n",
    "単純だが多くの場合うまくいくらしい  \n",
    "ここで$\\hat{g}$は取り扱う全ての重みを結合したもの．  \n",
    "例えば$W_1, W_2$をモデル内で使うなら，$||\\hat{g}|| = \\sqrt{||W_1|| + ||W_2||}$となる．"
   ]
  },
  {
   "cell_type": "code",
   "execution_count": 29,
   "metadata": {},
   "outputs": [],
   "source": [
    "dW1 = np.random.rand(3, 3) * 10\n",
    "dW2 = np.random.rand(3, 3) * 10\n",
    "grads = [dW1, dW2]\n",
    "max_norm = 5.0 # Threshold\n",
    "\n",
    "def clip_grads(grads, max_norm):\n",
    "    total_norm = 0\n",
    "    for grad in grads:\n",
    "        total_norm += np.sum(grad ** 2)\n",
    "    total_norm = np.sqrt(total_norm)\n",
    "    \n",
    "    # total_norm >= threshold  ==> total_norm+delta > threshold  ==> threshold/(total_norm+delta) < 1 ==> rate < 1\n",
    "    rate = max_norm / (total_norm + 1e-6) # ゼロディビジョン対策\n",
    "    if rate < 1:\n",
    "        for grad in grads:\n",
    "            grad *= rate\n",
    "\n",
    "clip_grads(grads, max_norm)"
   ]
  },
  {
   "cell_type": "markdown",
   "metadata": {},
   "source": [
    "# 勾配消失とLSTM\n",
    "こっちはRNNレイヤのアーキテクチャを根本から変える必要がある．  \n",
    "ここで登場するのが「ゲート付きRNN」  \n",
    "本節ではLSTMにフォーカスし，勾配消失を起こさない(起こしにくい)ことを明らかにする．  "
   ]
  },
  {
   "cell_type": "markdown",
   "metadata": {},
   "source": [
    "## LSTMのインタフェース\n",
    "計算グラフ上で，RNNの$h_t$の計算をひとまとめにしてtanhノードとする．  \n",
    "<br>\n",
    "RNNとLSTMの違いは，**記憶セル**$c_{t-1}$(入力), と$c_{t}$(出力)を持っていること．  \n",
    "この記憶セルは隠れ状態ベクトル$h_t$と違って外部には見えず，その存在を外部から考える必要はない．  "
   ]
  },
  {
   "cell_type": "markdown",
   "metadata": {},
   "source": [
    "## LSTMレイヤの組み立て\n",
    "記憶セル$c_t$には，過去から時刻$t$までのLSTMに必要な記憶が格納されている．  \n",
    "この$c_t$は，$c_{t-1}$と$h_{t-1}$から，以降説明する計算によって算出され，次の時刻のLSTMレイヤへ直接出力される．  \n",
    "ここで，$c_t$と$h_t$は同じ要素数を持つ．"
   ]
  },
  {
   "cell_type": "markdown",
   "metadata": {},
   "source": [
    "「ゲート」とは門のことで，データの流れをコントロールする．  \n",
    "LSTMのゲートは開く/閉じるの二択ではなく，0~1.0の範囲でどれくらいの量の水を次へ流すかをコントロールする．  \n",
    "この「どれだけゲートを開くか」ということもデータから学習させ，専用の重みパラメータを更新する．  \n",
    "ゲートの開き具合を求めるときには，sigmoid関数を用いる."
   ]
  },
  {
   "cell_type": "markdown",
   "metadata": {},
   "source": [
    "## outputゲート\n",
    "今，LSTMの仕組みから，$h_t = \\tanh(c_t)$である．  \n",
    "この$\\tanh(c_t)$に対してゲートを適用する．  \n",
    "outputゲートの開き具合は，入力$x_t$と前の状態$h_{t-1}$から求める．  \n",
    "ゲートで使用する重みパラメータとバイアスについては，上添字にoutputの頭文字である$o$をつけて区別する．  \n",
    "また，シグモイド関数は$\\sigma()$で表す．  \n",
    "出力ゲートの値の式を以下に示す．  \n",
    "$$ o = \\sigma(x_t W_x^{(o)} + h_{t-1}W_h^{(o)} + b^{(o)}) $$\n",
    "このoutputゲートで行う計算を計算グラフ上では「σ」と表す．  \n",
    "Sigmoid関数を用いているため，$o$の各要素は0.0~1.0であり，ゲートの役割を持つことができる．  \n",
    "これにより，出力$h_t$は以下の式で計算される．  \n",
    "$$ h_t = o \\odot \\tanh(c_t) $$\n",
    "ここで$\\odot$はアダマール積と呼ばれ，同じ要素番号の要素同士の積をとる演算子である．  \n"
   ]
  },
  {
   "cell_type": "markdown",
   "metadata": {},
   "source": [
    "## forgetゲート\n",
    "次に，記憶セルに対して何を忘れるかを明示的に示してやる，forgetゲートを追加する．  \n",
    "forgetゲートの式は以下で表される．形はoutputゲートと同じで，別途専用の重みを使用する．  \n",
    "$$ \\rm{f} = \\sigma(x_t W_x^{(\\rm{f})} + h_{t-1}W_h^{(\\rm{f})} + b^{(\\rm{f})}) $$\n",
    "計算グラフ上では，forgetゲートも$\\sigma$を使って表される．  \n",
    "この$\\rm{f}$を使って，$c_t$は$c_{t-1}$より以下の式で計算される．  \n",
    "$$ c_t = c_{t-1} \\odot \\rm{f} $$\n",
    "現在，この$c_t$を使って，$h_t = \\tanh(c_t)$と計算されている.  これからまた色々ゲートを足していく．  "
   ]
  },
  {
   "cell_type": "markdown",
   "metadata": {},
   "source": [
    "## 新しい記憶セル\n",
    "forgetゲートで忘れるだけではなく，新しく覚えるべき情報を記憶セルに追加する．  \n",
    "$$ \\rm{g} = \\tanh(x_t W_x^{(\\rm{g})} + h_{t-1}W_h^{(\\rm{g})} + b^{(\\rm{g})}) $$\n",
    "計算グラフ上では，この新しい記憶セルは$\\tanh$を使って表される．  \n",
    "この$\\rm{g}$を$c_{t-1}$に加算することで新しい記憶が生まれる．  \n",
    "現在， $c_t = c_{t-1} \\odot \\rm{f} + \\rm{g} $, $h_t = o \\odot \\tanh(c_t) $である．  "
   ]
  },
  {
   "cell_type": "markdown",
   "metadata": {},
   "source": [
    "# inputゲート\n",
    "最後に，新たに追加する情報$\\rm{g}$がどれだけ価値があるかを判断するinputゲートを追加する．  \n",
    "このinputゲートによって，何も考えずに新しい情報を追加するのではなく，追加する情報の取捨選択を行う．  \n",
    "$$ \\rm{i} = \\sigma(x_t W_x^{(\\rm{i})} + h_{t-1}W_h^{(\\rm{i})} + b^{(\\rm{i})}) $$\n",
    "計算グラフ上では，この新しい記憶セルも$\\sigma$を使って表される．\n",
    "そして，iとgの要素ごとの席の結果を記憶セルに追加する．  \n",
    "最終的に，\n",
    "$$ c_t = c_{t-1} \\odot \\rm{f} + \\rm{g} \\odot \\rm{i} $$\n",
    "$$ h_t = o \\odot \\tanh(c_t) $$\n",
    "という計算になる．"
   ]
  },
  {
   "cell_type": "markdown",
   "metadata": {},
   "source": [
    "ここまでのLSTMは代表的なもので，他にも色々亜種がある．"
   ]
  },
  {
   "cell_type": "markdown",
   "metadata": {},
   "source": [
    "## LSTMの勾配の流れ\n",
    "上述のLSTMがなぜ勾配消失を起こさないのかを記憶セル$c$の逆伝播に注目して見てみる．  \n",
    "<br>\n",
    "$c_t$から$c_{t-1}$への逆伝播では，「＋」ノードと「×」ノードを通る．  \n",
    "「＋」ノードの逆伝播は，そのまま下流に上流のデータを流すので劣化が起きない．  \n",
    "「×」ノードの逆伝播は，今までは行列の積の逆伝播でデータの劣化が起きていたが，今はアダマール積の逆伝播である．  \n",
    "<br>\n",
    "「×」ノードでは，forgetゲートのゲート値がアダマール積でかけられている．  \n",
    "このforgetゲートのゲート値が大きければ下流に伝わる勾配は大きくなり，逆もまた然りとなる．  \n",
    "これは，forgetゲートが「忘れてはいけない」と導いた要素の勾配は劣化させず，逆もまた然り，ということである．  \n",
    "<br>\n",
    "以上の議論から，LSTMの記憶セルでは，重要とされた記憶を長期的に保持することができ，勾配消失が起きない/起きにくいことが分かる．  "
   ]
  },
  {
   "cell_type": "markdown",
   "metadata": {},
   "source": [
    "LSTMとは，Long short-term memoryの頭文字から来ている．  \n",
    "この言葉は，短期記憶(short-term memory)を長い(long)時間継続できることを意味する．"
   ]
  },
  {
   "cell_type": "markdown",
   "metadata": {},
   "source": [
    "# LSTMの実装\n",
    "まず1ステップの処理をLSTMクラスとして実装した後，Tステップ文をまとめて処理するクラスをTimeLSTMとして実装する．  \n",
    "まずはLSTMで行う4つのゲート計算を一つにまとめて計算を効率化するところから始める．  \n",
    "$$ \\begin{eqnarray*} \\\\\n",
    "\\rm{f} &=& \\sigma(x_tW_x^{(\\rm{f})} + h_{t-1}W_h^{(\\rm{f})} + b^{(\\rm{f})}) \\\\\n",
    "\\rm{g} &=& \\tanh(x_tW_x^{(\\rm{g})} + h_{t-1}W_h^{(\\rm{g})} + b^{(\\rm{g})}) \\\\\n",
    "\\rm{i} &=& \\sigma(x_tW_x^{(\\rm{i})} + h_{t-1}W_h^{(\\rm{i})} + b^{(\\rm{i})}) \\\\\n",
    "\\rm{o} &=& \\sigma(x_tW_x^{(\\rm{o})} + h_{t-1}W_h^{(\\rm{o})} + b^{(\\rm{o})}) \\\\\n",
    "c_t &=& \\rm{f} \\odot c_{t-1} + \\rm{g} \\odot \\rm{i} \\\\\n",
    "h_t &=& o \\odot \\tanh(c_t) \\\\\n",
    "\\end{eqnarray*} $$\n",
    "f, g, i, oの4つの式のσの中身に入っているアフィン変換の式を一つにまとめて計算できる．  \n",
    "$$ [\\begin{array} & f & g & i & o \\end{array}] = \n",
    "x_tW_x + h_{t-1}W_h + b = \n",
    "x_t [\\begin{array} & W_x^{(\\rm{f})} & W_x^{(\\rm{g})} & W_x^{(\\rm{i})} & W_x^{(\\rm{o})} \\end{array} ] + \n",
    "h_{t-1} [\\begin{array} & W_h^{(\\rm{f})} & W_h^{(\\rm{g})} & W_h^{(\\rm{i})} & W_h^{(\\rm{o})} \\end{array} ] + \n",
    "[\\begin{array} & b^{(\\rm{f})} & b^{(\\rm{g})} & b^{(\\rm{i})} & b^{(\\rm{o})} \\end{array} ] $$\n",
    "この4つの式を一気に計算し，記憶セルの計算の各所へ分散させるノードをsliceノードと呼び，計算グラフ上でsliceと表す．  "
   ]
  },
  {
   "cell_type": "code",
   "execution_count": 30,
   "metadata": {},
   "outputs": [],
   "source": [
    "from common.functions import sigmoid\n",
    "\n",
    "class LSTM:\n",
    "    def __init__(self, Wx, Wh, b):\n",
    "        self.params = [Wx, Wh, b]\n",
    "        self.grads = [np.zeros_like(Wx), np.zeros_like(Wh), np.zeros_like(b)]\n",
    "        self.cache = None # 順伝播での中間結果の保持\n",
    "    \n",
    "    def forward(self, x, h_prev,  c_prev): # 前の時刻の記憶セルも引数にとる\n",
    "        Wx, Wh, b = self.params\n",
    "        N, H = h_prev.shape\n",
    "        \n",
    "        A = np.dot(x, Wx) * np.dot(h_prev, Wh) + b\n",
    "        \n",
    "        # slice\n",
    "        f = A[:, :H] # 全行 H-1列まで\n",
    "        g = A[:, H:2*H] # 全行 H列から2*H-1列まで\n",
    "        i = A[:, 2 * H : 3 * H] # 全行 2＊H列から3＊H-1列まで\n",
    "        o = A[:, 3 * H:] # 全行 後ろからH列\n",
    "        \n",
    "        f = sigmoid(f)\n",
    "        g = np.tanh(g) # 新しい記憶セルだけ出力ノードと同じtanhなので注意\n",
    "        i = sigmoid(i)\n",
    "        o = sigmoid(o)\n",
    "        \n",
    "        c_next = f * c_prev + g * i\n",
    "        tanh_c_next = np.tanh(c_next) # backwardで逆伝播の係数に使う\n",
    "        h_next = o * tanh_c_next\n",
    "        \n",
    "        self.cache = (x, h_prev, c_prev, i, f, g, o, tanh_c_next, c_next)\n",
    "        return h_next, c_next\n",
    "    \n",
    "    def backward(self, dh_next, dc_next):\n",
    "        Wx, Wh, b = self.params\n",
    "        x, h_prev, c_prev, i, f, g, o, tanh_c_next, c_next = self.cache\n",
    "                \n",
    "        # 足し算の逆伝播は上流からの勾配をそのまま返す\n",
    "        # 掛け算の逆伝播は上流からの勾配に反対の入力をかけて返す\n",
    "        \n",
    "        # c_next方向とh_next方向に分岐しているノードを統合して下流に流すdsが必要\n",
    "        ds = dc_next + dh_next * o * (1 - tanh_c_next ** 2)\n",
    "        \n",
    "        df_affine = ds * c_prev\n",
    "        df = df_affine * f * (1 - f) # sigmoidの逆伝播\n",
    "        \n",
    "        dg_affine = ds * i\n",
    "        dg = dg_affine * (1 - g ** 2) # tanhの逆伝播\n",
    "        \n",
    "        di_affine = ds * g \n",
    "        di = di_affine * i * (1 - i) # sigmoidの逆伝播\n",
    "        \n",
    "        do_affine = dh_next * tanh_c_next\n",
    "        do = do_affine * o * (1 - o) # sigmoidの逆伝播\n",
    "        \n",
    "        # 4つ分の重みを水平方向に統合 (垂直方向はvstack)\n",
    "        dA = np.hstack((df, dg, di, do))\n",
    "                \n",
    "        # b方向へのrepeatの逆伝播\n",
    "        db = np.sum(dA, axis=0)\n",
    "        \n",
    "        # h_prev方向へのMatMulの逆伝播\n",
    "        dWh = h_prev.T @ dA\n",
    "        dh_prev = dA @ Wh.T\n",
    "        \n",
    "        # x方向へのMatMulの逆伝播\n",
    "        dWx = x.T @ dA\n",
    "        dx = dA @ Wx.T\n",
    "        \n",
    "        self.grads[0][...] = dWx # 3点リーダによって，浅いコピー(参照のコピー)ではなく深いコピー(値のコピー)を行う．\n",
    "        self.grads[1][...] = dWh\n",
    "        self.grads[2][...] = db\n",
    "        \n",
    "        # 掛け算の微分は上流からの勾配に反対側の入力をかける\n",
    "        dc_prev = ds * f\n",
    "        \n",
    "        return dx, dh_prev, dc_prev"
   ]
  },
  {
   "cell_type": "markdown",
   "metadata": {},
   "source": [
    "## TimeLSTMの実装\n",
    "T個分の時系列データをLSTMでまとめて処理するレイヤを作成"
   ]
  },
  {
   "cell_type": "code",
   "execution_count": 31,
   "metadata": {},
   "outputs": [],
   "source": [
    "class TimeLSTM:\n",
    "    def __init__(self, Wx, Wh, b, stateful=False):\n",
    "        self.params = [Wx, Wh, b]\n",
    "        self.grads = (np.zeros_like(Wx), np.zeros_like(Wh), np.zeros_like(b))\n",
    "        self.layers = None\n",
    "        \n",
    "        self.h, self.c = None, None\n",
    "        self.dh = None\n",
    "        self.stateful = stateful\n",
    "        \n",
    "    def forward(self, xs):\n",
    "        Wx, Wh, b = self.params\n",
    "        N, T, D = xs.shape\n",
    "        H = Wh.shape[0]\n",
    "        \n",
    "        self.layers = []\n",
    "        hs = np.empty((N, T, H), dtype='f')\n",
    "        \n",
    "        if not self.stateful or selh.h is None:\n",
    "            self.h = np.zeros((N, H), dtype='f')\n",
    "        if not self.stateful or self.c is None:\n",
    "            self.c = np.zeros((N, H), dtype='f')\n",
    "        \n",
    "        # この辺はTimeRNNと一緒\n",
    "        # T個LSTMを作るのでbackwardでもT個回す\n",
    "        for t in range(T):\n",
    "            layer = LSTM(*self.params)\n",
    "            self.h, self.c = layer.forward(xs[:, t, :], self.h, self.c)\n",
    "            hs[:, t, :] = self.h\n",
    "            \n",
    "            self.layers.append(layer)\n",
    "        \n",
    "        return hs\n",
    "\n",
    "    def backward(self, dhs):\n",
    "        Wx, Wh, b = self.params\n",
    "        N, T, H = dhs.shape\n",
    "        D = Wx.shape[0]\n",
    "        \n",
    "        dxs = np.empty((N, T, D), dtype='f')\n",
    "        dh, dc = 0, 0\n",
    "        \n",
    "        grads = [0, 0, 0]\n",
    "        for t in reversed(range(T)):\n",
    "            layer = self.layers[t]\n",
    "            # 上の層と次の時刻の2つに分岐ノードが伸びているので，逆伝播ではこれらを加算してLSTMに渡す．\n",
    "            dx, dh, dc = layer.backward(dhs[:, t, :] + dh, dc)\n",
    "            dxs[:, t, :] = dx # この時刻tにxの勾配dxを追加， backwardでは全時刻分をTimeLSTMの返り値として一気に返す．\n",
    "            for i, grad in enumerate(layer.grads): # TimeRNN同様，全時刻の勾配の総和がTimeLSTMの勾配になる．\n",
    "                grads[i] += grad\n",
    "        \n",
    "        # 勾配値をディープコピー，外部化からアクセスできるようにする．\n",
    "        for i, grad in enumerate(grads):\n",
    "            self.grads[i][...] = grad\n",
    "        \n",
    "        # 最終的な時刻方向のTimeLSTMの勾配\n",
    "        self.dh = dh\n",
    "        \n",
    "        return dxs\n",
    "    \n",
    "    def set_state(self, h, c=None):\n",
    "        self.h, self.c = h, c\n",
    "    \n",
    "    # 訓練後，テストデータでのpredictのためにリセットする関数を用意\n",
    "    def reset_state(self):\n",
    "        self.h, self.c = None, None"
   ]
  },
  {
   "cell_type": "markdown",
   "metadata": {},
   "source": [
    "# LSTMを使った言語モデル\n",
    "これまで実装したTimeLSTMを使って，言語モデル(文脈自然性判定器)を実装する.  \n",
    "前章のRNNを使った言語モデルのTimeRNNの層がTimeLSTMに入れ替わっただけ．"
   ]
  },
  {
   "cell_type": "code",
   "execution_count": 32,
   "metadata": {},
   "outputs": [],
   "source": [
    "from common.time_layers import TimeEmbedding, TimeAffine, TimeSoftmaxWithLoss\n",
    "import pickle\n",
    "\n",
    "class Rnnlm:\n",
    "    def __init__(self, vocab_size=10000, wordvec_size=100, hidden_size=100):\n",
    "        V, D, H = vocab_size, wordvec_size, hidden_size\n",
    "        rn = np.random.randn\n",
    "        \n",
    "        # 重みの初期化\n",
    "        embed_W = (rn(V, D) / 100).astype('f')\n",
    "        lstm_Wx = (rn(D, 4 * H) / np.sqrt(D)).astype('f')\n",
    "        lstm_Wh = (rn(H, 4 * H) / np.sqrt(H)).astype('f')\n",
    "        lstm_b = np.zeros(4 * H).astype('f')\n",
    "        affine_W = (rn(H, V) / np.sqrt(H)).astype('f')\n",
    "        affine_b = np.zeros(V).astype('f')\n",
    "        \n",
    "        # レイヤの作成\n",
    "        self.layers = [\n",
    "            TimeEmbedding(embed_W),\n",
    "            TimeLSTM(lstm_Wx, lstm_Wh, lstm_b),\n",
    "            TimeAffine(affine_W, affine_b)\n",
    "        ]\n",
    "        self.loss_layer = TimeSoftmaxWithLoss()\n",
    "        self.lstm_layer = self.layers[1]\n",
    "        \n",
    "        # 全ての重みと勾配をリストにまとめる\n",
    "        self.params, self.grads = [], []\n",
    "        for layer in self.layers:\n",
    "            self.params += layer.params\n",
    "            self.grads += layer.grads\n",
    "    \n",
    "    def predict(self, xs):\n",
    "        for layer in self.layers:\n",
    "            xs = layer.forward(xs)\n",
    "        return xs\n",
    "    \n",
    "    def forward(self, xs, ts):\n",
    "        score = self.predict(xs)\n",
    "        loss = self.loss_layer.forward(score, ts)\n",
    "        return loss\n",
    "        \n",
    "    def backward(self, dout=1):\n",
    "        dout = self.loss_layer.backward(dout)\n",
    "        for layer in reversed(self.layers):\n",
    "            dout = layer.backward(dout)\n",
    "        return dout\n",
    "    \n",
    "    def reset_state(self):\n",
    "        self.lstm_layer.reset_state()\n",
    "        \n",
    "    # 重みパラメータのセーブ/ロードはcommon.base_modelのBaseModelクラスを継承することでも実装できる．\n",
    "    # さらにBaseModelクラスではGPU対応やビット削減(16ビットの浮動小数点数で保存する)などの最適化が行われている．\n",
    "    \n",
    "    # 重みパラメータのセーブ\n",
    "    def save_param(self, file_name = 'Rnnlm.pkl'):\n",
    "        with open(file_name, 'wb') as f:\n",
    "            pickle.dump(self.params, f)\n",
    "    \n",
    "    # 重みパラメータのロード\n",
    "    def load_params(self, file_name='Rnnlm.pkl'):\n",
    "        with open(file_name, 'rb') as f:\n",
    "            self.params = pickle.load(f)"
   ]
  },
  {
   "cell_type": "markdown",
   "metadata": {},
   "source": [
    "上記のTimeLSTMレイヤを使った言語モデルを使ってPTBデータセットの学習を行ってみる．"
   ]
  },
  {
   "cell_type": "code",
   "execution_count": 33,
   "metadata": {},
   "outputs": [
    {
     "name": "stdout",
     "output_type": "stream",
     "text": [
      "| epoch 1 |  iter 1 / 1327 | time 0[s] | perplexity 10000.01\n",
      "| epoch 1 |  iter 21 / 1327 | time 5[s] | perplexity 2195.43\n",
      "| epoch 1 |  iter 41 / 1327 | time 10[s] | perplexity 1300.42\n"
     ]
    },
    {
     "name": "stderr",
     "output_type": "stream",
     "text": [
      "/Users/komatsu/programing/machinelearning/DLFromScratch2/common/functions.py:6: RuntimeWarning: overflow encountered in exp\n",
      "  return 1 / (1 + np.exp(-x))\n"
     ]
    },
    {
     "name": "stdout",
     "output_type": "stream",
     "text": [
      "| epoch 1 |  iter 61 / 1327 | time 16[s] | perplexity 1391.06\n",
      "| epoch 1 |  iter 81 / 1327 | time 21[s] | perplexity 1169.93\n",
      "| epoch 1 |  iter 101 / 1327 | time 27[s] | perplexity 955.31\n",
      "| epoch 1 |  iter 121 / 1327 | time 32[s] | perplexity 1023.41\n",
      "| epoch 1 |  iter 141 / 1327 | time 38[s] | perplexity 959.70\n",
      "| epoch 1 |  iter 161 / 1327 | time 44[s] | perplexity 962.68\n",
      "| epoch 1 |  iter 181 / 1327 | time 49[s] | perplexity 1079.63\n",
      "| epoch 1 |  iter 201 / 1327 | time 55[s] | perplexity 899.24\n",
      "| epoch 1 |  iter 221 / 1327 | time 60[s] | perplexity 919.13\n",
      "| epoch 1 |  iter 241 / 1327 | time 66[s] | perplexity 830.56\n",
      "| epoch 1 |  iter 261 / 1327 | time 72[s] | perplexity 886.54\n",
      "| epoch 1 |  iter 281 / 1327 | time 78[s] | perplexity 839.11\n",
      "| epoch 1 |  iter 301 / 1327 | time 84[s] | perplexity 761.33\n",
      "| epoch 1 |  iter 321 / 1327 | time 89[s] | perplexity 720.78\n",
      "| epoch 1 |  iter 341 / 1327 | time 95[s] | perplexity 852.41\n",
      "| epoch 1 |  iter 361 / 1327 | time 101[s] | perplexity 887.49\n",
      "| epoch 1 |  iter 381 / 1327 | time 106[s] | perplexity 774.90\n",
      "| epoch 1 |  iter 401 / 1327 | time 112[s] | perplexity 800.26\n",
      "| epoch 1 |  iter 421 / 1327 | time 118[s] | perplexity 839.91\n",
      "| epoch 1 |  iter 441 / 1327 | time 124[s] | perplexity 818.65\n",
      "| epoch 1 |  iter 461 / 1327 | time 129[s] | perplexity 776.66\n",
      "| epoch 1 |  iter 481 / 1327 | time 135[s] | perplexity 798.92\n",
      "| epoch 1 |  iter 501 / 1327 | time 141[s] | perplexity 872.25\n",
      "| epoch 1 |  iter 521 / 1327 | time 147[s] | perplexity 850.46\n",
      "| epoch 1 |  iter 541 / 1327 | time 152[s] | perplexity 863.02\n",
      "| epoch 1 |  iter 561 / 1327 | time 159[s] | perplexity 872.15\n"
     ]
    },
    {
     "ename": "KeyboardInterrupt",
     "evalue": "",
     "output_type": "error",
     "traceback": [
      "\u001b[0;31m---------------------------------------------------------------------------\u001b[0m",
      "\u001b[0;31mKeyboardInterrupt\u001b[0m                         Traceback (most recent call last)",
      "\u001b[0;32m<ipython-input-33-effb9a812a99>\u001b[0m in \u001b[0;36m<module>\u001b[0;34m\u001b[0m\n\u001b[1;32m     26\u001b[0m \u001b[0;34m\u001b[0m\u001b[0m\n\u001b[1;32m     27\u001b[0m \u001b[0;31m# 1. 勾配爆発を防ぐため，勾配クリッピングを適用して学習\u001b[0m\u001b[0;34m\u001b[0m\u001b[0;34m\u001b[0m\u001b[0m\n\u001b[0;32m---> 28\u001b[0;31m \u001b[0mtrainer\u001b[0m\u001b[0;34m.\u001b[0m\u001b[0mfit\u001b[0m\u001b[0;34m(\u001b[0m\u001b[0mxs\u001b[0m\u001b[0;34m,\u001b[0m \u001b[0mts\u001b[0m\u001b[0;34m,\u001b[0m \u001b[0mmax_epoch\u001b[0m\u001b[0;34m,\u001b[0m \u001b[0mbatch_size\u001b[0m\u001b[0;34m,\u001b[0m \u001b[0mtime_size\u001b[0m\u001b[0;34m,\u001b[0m \u001b[0mmax_grad\u001b[0m\u001b[0;34m,\u001b[0m \u001b[0meval_interval\u001b[0m\u001b[0;34m=\u001b[0m\u001b[0;36m20\u001b[0m\u001b[0;34m)\u001b[0m \u001b[0;31m# eval_interval: 20イテレーションごとにパープレキシティを評価\u001b[0m\u001b[0;34m\u001b[0m\u001b[0m\n\u001b[0m\u001b[1;32m     29\u001b[0m \u001b[0mtrainer\u001b[0m\u001b[0;34m.\u001b[0m\u001b[0mplot\u001b[0m\u001b[0;34m(\u001b[0m\u001b[0mylim\u001b[0m\u001b[0;34m=\u001b[0m\u001b[0;34m(\u001b[0m\u001b[0;36m0\u001b[0m\u001b[0;34m,\u001b[0m \u001b[0;36m500\u001b[0m\u001b[0;34m)\u001b[0m\u001b[0;34m)\u001b[0m\u001b[0;34m\u001b[0m\u001b[0m\n\u001b[1;32m     30\u001b[0m \u001b[0;34m\u001b[0m\u001b[0m\n",
      "\u001b[0;32m~/programing/machinelearning/DLFromScratch2/common/trainer.py\u001b[0m in \u001b[0;36mfit\u001b[0;34m(self, xs, ts, max_epoch, batch_size, time_size, max_grad, eval_interval)\u001b[0m\n\u001b[1;32m    108\u001b[0m \u001b[0;34m\u001b[0m\u001b[0m\n\u001b[1;32m    109\u001b[0m                 \u001b[0;31m# 勾配を求め、パラメータを更新\u001b[0m\u001b[0;34m\u001b[0m\u001b[0;34m\u001b[0m\u001b[0m\n\u001b[0;32m--> 110\u001b[0;31m                 \u001b[0mloss\u001b[0m \u001b[0;34m=\u001b[0m \u001b[0mmodel\u001b[0m\u001b[0;34m.\u001b[0m\u001b[0mforward\u001b[0m\u001b[0;34m(\u001b[0m\u001b[0mbatch_x\u001b[0m\u001b[0;34m,\u001b[0m \u001b[0mbatch_t\u001b[0m\u001b[0;34m)\u001b[0m\u001b[0;34m\u001b[0m\u001b[0m\n\u001b[0m\u001b[1;32m    111\u001b[0m                 \u001b[0mmodel\u001b[0m\u001b[0;34m.\u001b[0m\u001b[0mbackward\u001b[0m\u001b[0;34m(\u001b[0m\u001b[0;34m)\u001b[0m\u001b[0;34m\u001b[0m\u001b[0m\n\u001b[1;32m    112\u001b[0m                 \u001b[0mparams\u001b[0m\u001b[0;34m,\u001b[0m \u001b[0mgrads\u001b[0m \u001b[0;34m=\u001b[0m \u001b[0mremove_duplicate\u001b[0m\u001b[0;34m(\u001b[0m\u001b[0mmodel\u001b[0m\u001b[0;34m.\u001b[0m\u001b[0mparams\u001b[0m\u001b[0;34m,\u001b[0m \u001b[0mmodel\u001b[0m\u001b[0;34m.\u001b[0m\u001b[0mgrads\u001b[0m\u001b[0;34m)\u001b[0m  \u001b[0;31m# 共有された重みを1つに集約\u001b[0m\u001b[0;34m\u001b[0m\u001b[0m\n",
      "\u001b[0;31mKeyboardInterrupt\u001b[0m: "
     ]
    }
   ],
   "source": [
    "from common.optimizer import SGD\n",
    "from common.trainer import RnnlmTrainer\n",
    "from common.util import eval_perplexity\n",
    "from dataset import ptb\n",
    "\n",
    "# ハイパーパラメータの設定\n",
    "batch_size = 20\n",
    "wordvec_size = 100\n",
    "hidden_size = 100 # RNNの隠れ状態のベクトルの要素数\n",
    "time_size = 35 # RNNを展開するサイズ\n",
    "lr = 20.0\n",
    "max_epoch = 4\n",
    "max_grad = 0.25\n",
    "\n",
    "# 学習データの読み込み\n",
    "corpus, word_to_id, id_to_word = ptb.load_data('train')\n",
    "corpus_test, _, _ = ptb.load_data('test')\n",
    "vocab_size = len(word_to_id)\n",
    "xs = corpus[:-1]\n",
    "ts = corpus[1:]\n",
    "\n",
    "# モデルの作成\n",
    "model = Rnnlm(vocab_size, wordvec_size, hidden_size)\n",
    "optimizer = SGD(lr)\n",
    "trainer = RnnlmTrainer(model, optimizer)\n",
    "\n",
    "# 1. 勾配爆発を防ぐため，勾配クリッピングを適用して学習\n",
    "trainer.fit(xs, ts, max_epoch, batch_size, time_size, max_grad, eval_interval=20) # eval_interval: 20イテレーションごとにパープレキシティを評価\n",
    "trainer.plot(ylim=(0, 500)) # グラフ表示, パープレキシティは10000->135程度になり，大事なところのグラフの変化が小さくなってしまうのでy軸リミットを設定\n",
    "\n",
    "# 2. 最終的なパープレキシティをテストデータで評価\n",
    "model.reset_state()\n",
    "ppl_test = eval_perplexity(model, corpus_test)\n",
    "print('test perplexity: ', ppl_test)\n",
    "\n",
    "# 3. パラメータの保存\n",
    "model.save_params()"
   ]
  },
  {
   "cell_type": "markdown",
   "metadata": {},
   "source": [
    "パープレキシティ（次の単語の選択肢の数の相場)は10000から学習によってだいたい135まで絞り込めるようになる．  \n",
    "これはあまり良い結果ではなく，2017年の最先端では60を下回っている．  \n",
    "以下ではさらにRNNLMの改善を行っていく．"
   ]
  },
  {
   "cell_type": "markdown",
   "metadata": {},
   "source": [
    "# RNNLMのさらなる改善\n",
    "改善すべきポイントを3つ説明，実装，精度向上の評価を行う．"
   ]
  },
  {
   "cell_type": "markdown",
   "metadata": {},
   "source": [
    "## LSTMレイヤでの多層化"
   ]
  }
 ],
 "metadata": {
  "kernelspec": {
   "display_name": "Python 3",
   "language": "python",
   "name": "python3"
  },
  "language_info": {
   "codemirror_mode": {
    "name": "ipython",
    "version": 3
   },
   "file_extension": ".py",
   "mimetype": "text/x-python",
   "name": "python",
   "nbconvert_exporter": "python",
   "pygments_lexer": "ipython3",
   "version": "3.7.0"
  }
 },
 "nbformat": 4,
 "nbformat_minor": 2
}
