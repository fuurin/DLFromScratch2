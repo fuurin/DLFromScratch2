{
 "cells": [
  {
   "cell_type": "code",
   "execution_count": 1,
   "metadata": {},
   "outputs": [],
   "source": [
    "import numpy as np\n",
    "%matplotlib inline"
   ]
  },
  {
   "cell_type": "markdown",
   "metadata": {},
   "source": [
    "前章のword2vecは語彙数が増えると計算量があまりにもおおくなる  \n",
    "高速化のため，以下の2つの高速化を行う  \n",
    "- Embeddingレイヤの導入\n",
    "- Negative Samplingという損失関数の導入\n",
    "\n",
    "PTBデータセットという実用的なサイズのコーパスを対象に学習を行う．  \n",
    "単語の分散表現の良さを実際に評価する．"
   ]
  },
  {
   "cell_type": "markdown",
   "metadata": {},
   "source": [
    "# word2vecの改良①\n",
    "CBOWモデルでは，例えば語彙が100万のとき，以下の計算がボトルネックとなる．  \n",
    "- 入力層の100万次元のone-hot表現と重み行列Win(1000000, 100)の積による計算\n",
    "    - 4.1節のEmbeddingレイヤで解決\n",
    "- 中間層と重み行列Wout(100, 1000000)の積と100万次元の出力を持つSoftmaxレイヤの計算\n",
    "    - 4.2節のNegative Samplingで解決"
   ]
  },
  {
   "cell_type": "markdown",
   "metadata": {},
   "source": [
    "## Embeddingレイヤ\n",
    "CBOWの入力層とWinの計算は，単にone-hotベクトルで1になっているWinの行を抜き出しているだけ．  \n",
    "重みパラメータから，単語IDに該当する行ベクトルを抜き出すためのレイヤとして，Embeddingレイヤを作成する．  \n",
    "word embeddingとは，単語の密なベクトル表現のことで，「単語の埋め込み」や「単語の分散表現(distributed representation)」と呼ばれる．  "
   ]
  },
  {
   "cell_type": "markdown",
   "metadata": {},
   "source": [
    "## Embeddingレイヤの実装\n",
    "重みから特定の行を抜き出すには，単にW[2]やW[5]と書けばよい．"
   ]
  },
  {
   "cell_type": "code",
   "execution_count": 2,
   "metadata": {},
   "outputs": [
    {
     "name": "stdout",
     "output_type": "stream",
     "text": [
      "[[ 0  1  2]\n",
      " [ 3  4  5]\n",
      " [ 6  7  8]\n",
      " [ 9 10 11]\n",
      " [12 13 14]\n",
      " [15 16 17]\n",
      " [18 19 20]]\n",
      "\n",
      "[6 7 8]\n",
      "[15 16 17]\n"
     ]
    }
   ],
   "source": [
    "W = np.arange(21).reshape(7, 3)\n",
    "print(W)\n",
    "print()\n",
    "print(W[2])\n",
    "print(W[5])"
   ]
  },
  {
   "cell_type": "markdown",
   "metadata": {},
   "source": [
    "複数の行をまとめて抽出する  \n",
    "ミニバッチ処理を想定"
   ]
  },
  {
   "cell_type": "code",
   "execution_count": 3,
   "metadata": {},
   "outputs": [
    {
     "data": {
      "text/plain": [
       "array([[ 3,  4,  5],\n",
       "       [ 0,  1,  2],\n",
       "       [ 9, 10, 11],\n",
       "       [ 0,  1,  2]])"
      ]
     },
     "execution_count": 3,
     "metadata": {},
     "output_type": "execute_result"
    }
   ],
   "source": [
    "idx = np.array([1, 0, 3, 0])\n",
    "W[idx]"
   ]
  },
  {
   "cell_type": "markdown",
   "metadata": {},
   "source": [
    "Embeddingレイヤを実装  \n",
    "順伝播は重みWの特定の行を何の手も加えず抜き出すだけ  \n",
    "逆伝播は前の層から伝わってきた勾配を，自身の重みの勾配dWのidxで指定されたすべての行に設定する．  \n",
    "この逆伝播は，$y=xW$という順伝播の式のとき，以下の式で表せる．  \n",
    "$$ \\frac{\\partial L}{\\partial W} = x^{\\top} \\frac{\\partial L}{\\partial y} = x^{\\top} dout$$\n",
    "$x$で1になっている選ばれた行が$dout$で，それ以外は0である行列が勾配$\\frac{\\partial L}{\\partial W}$となる．"
   ]
  },
  {
   "cell_type": "code",
   "execution_count": 4,
   "metadata": {},
   "outputs": [],
   "source": [
    "class Embedding:\n",
    "    def __init__(self, W):\n",
    "        self.params = [W]\n",
    "        self.grads = [np.zeros_like(W)]\n",
    "        self.idx = None\n",
    "    \n",
    "    def forward(self, idx):\n",
    "        W, = self.params\n",
    "        self.idx = idx # ミニバッチで選ばれた行のインデックス\n",
    "        out = W[idx]\n",
    "        return out\n",
    "    \n",
    "#     def backward(self, dout):\n",
    "#         dW, = self.grads\n",
    "#         dW[...] = 0\n",
    "#         dW[self.idx] = dout # 悪い例 idxは重複を持つ可能性があり，そのときインデックスが小さい行は大きい行で上書きされてしまう．\n",
    "#         return None\n",
    "\n",
    "    def backward(self, dout):\n",
    "        dW, = self.grads\n",
    "        dW[...] = 0\n",
    "        \n",
    "        # 重複するインデックスのところは，上書きではなく加算を行う．\n",
    "            # 重みの更新は，Winの各行について行われる．\n",
    "            # インデックスが例えば2つ重複しているところは，2回学習が行われていることになる\n",
    "            # すると，2回分の重みの更新を一度に行えばよいため，(Win - dW1) - dW2 = Win - (dW1 + dW2) のように計算する．\n",
    "            # 従って，インデックスが重複しているところは上書きではなく，加算を行えばよい．\n",
    "            \n",
    "        for i, word_id in enumerate(self.idx):\n",
    "            # dW[word_id] += dout[i]\n",
    "            np.add.at(dW, self.idx, dout) # 高速\n",
    "        \n",
    "        return None"
   ]
  },
  {
   "cell_type": "markdown",
   "metadata": {},
   "source": [
    "以上でEmbeddingレイヤの実装は終わり．  \n",
    "CBOWモデルの実装では，MatMulレイヤをEmbeddingレイヤに切り替えればよい．  \n",
    "これによってメモリの使用量を減らし，さらに無駄な計算を省くことができるようになった．  "
   ]
  },
  {
   "cell_type": "markdown",
   "metadata": {},
   "source": [
    "# word2vecの改良②\n",
    "中間層以降の行列の積とSoftmaxレイヤの計算では，Negative Sampling(負例サンプリング)を行う．  \n",
    "これによって，語彙数がどれだけ多くなっても計算量を一定に抑えられる．  "
   ]
  },
  {
   "cell_type": "markdown",
   "metadata": {},
   "source": [
    "## 中間層以降の計算の問題点\n",
    "例えば，出力層を100万次元にすると，以下の点でまだ問題が残っている\n",
    "- 中間層のニューロンとWoutの積(100×100万の行列計算)\n",
    "- Softmaxレイヤの計算(100万次元の平均計算)\n",
    "\n",
    "特に，Softmaxレイヤの計算は以下の式から，その重さがわかる．分母ではexp計算を100万回行なっている．\n",
    "$$ y_k = \\frac{exp(s_k)}{\\sum_{i=1}^{1000000}exp(s_i)} $$"
   ]
  },
  {
   "cell_type": "markdown",
   "metadata": {},
   "source": [
    "## 多値分類から二値分類へ\n",
    "この手法の鍵となるアイデアは，多値分類を二値分類で近似することにある．  \n",
    "先ほどの例では，100万単語から正しい単語を1つ選ぶ問題として考えてきたが，これをYes/Noで答えられる問題で近似できないだろうか？  \n",
    "例えば，コンテキストがYouとGoodbyeのとき，  \n",
    "「ターゲットとなる単語は何ですか？」を「ターゲットとなる単語はsayですか？」という質問に変えればいい  \n",
    "そうした場合，出力層にはニューロンをひとつだけ用意すれば事足りる．  \n",
    "その出力層のニューロンは，「say」であるスコアを出力しさえすればいい．  "
   ]
  },
  {
   "cell_type": "markdown",
   "metadata": {},
   "source": [
    "中間層と出力側の重み行列の積は，隠れ層の出力「say」に対応するWoutの列のみを内積計算した，スカラー値のみを出力すればよい．  \n",
    "そのスコアを確率に変換するため，シグモイド関数を適用する．"
   ]
  },
  {
   "cell_type": "markdown",
   "metadata": {},
   "source": [
    "## シグモイド関数と交差エントロピー誤差\n",
    "スコアを確率に変換する．\n",
    "これまでは多値分類問題だったため，Softmax関数を使っていたが，二値分類問題ではシグモイド関数を使う．  \n",
    "シグモイド関数は今，以下の式で表される．  \n",
    "$$ y_0 = \\frac{1}{1 + exp(-x)},  y_1 = 1 - y_0$$\n",
    "グラフの形状はS字カーブをしており，yは0~1の値をとる．xが0に近いほどyは0.5に近くなる．  \n",
    "このとき交差エントロピー誤差は次のようになる．\n",
    "$$ L = -\\sum_{k} t_klogy_k = -(tlog{y} + (1-t)log(1-y)) $$\n",
    "$t=0$(正解)のときは正解の確率を使って$-logy$が出力され，逆に$t=0$(不正解)のときは不正解の確率を使って$-log(1-y)$が出力される．  \n",
    "  \n",
    "  \n",
    "SigmoidレイヤとCrossEntropyErrorレイヤを合わせて出力層とする．  \n",
    "このとき，Sigmoidレイヤの逆伝播は，$y-t$になる．  \n",
    "正解ラベルが1(不正解)のとき，yは1に近いほど更新量が少なくなり，逆に正解ラベルが0(正解)のとき，yは0に近いほど更新量が少なくなる．  \n",
    "\n",
    "同様にして，ソフトマックス関数と交差エントロピー誤差の組み合わせ，恒等関数と2乗和誤差の組み合わせにも，逆伝播時には$y-t$の値が伝播する．  "
   ]
  },
  {
   "cell_type": "markdown",
   "metadata": {},
   "source": [
    "## 多値分類から二値分類へ(実装編)\n",
    "中間層の出力をhとすると，SigmoidWithLossに入力されるのはWoutからsayの部分のみを抜き出すEmbeddingレイヤの出力とhの積になる．\n",
    "この層をEmbedding Dotレイヤとして実装する．  "
   ]
  },
  {
   "cell_type": "code",
   "execution_count": 5,
   "metadata": {},
   "outputs": [],
   "source": [
    "class EmbeddingDot:\n",
    "    def __init__(self, W):\n",
    "        self.embed = Embedding(W)\n",
    "        self.params = self.embed.params\n",
    "        self.grads = self.embed.grads\n",
    "        self.cache = None\n",
    "    \n",
    "    # 抜き出し -> 中間層との積．抜き出すことで0の部分を計算しなくていいため高速\n",
    "    def forward(self, h, idx):\n",
    "        target_W = self.embed.forward(idx)\n",
    "        out = np.sum(target_W * h, axis = 1) # ミニバッチで選ばれた単語の重みと中間層の内積計算\n",
    "        # out = target_W @ h と同様だが，1行のみなのでこのような形にしている．\n",
    "        \n",
    "        self.cache = (h, target_W)\n",
    "        return out\n",
    "    \n",
    "    # 中間層との積 -> 抜き出し．y=xWの逆をやる．\n",
    "    def backward(self, dout):\n",
    "        h, target = self.cache\n",
    "        dout = dout.reshape(dout.shape[0], 1) # doutを列ベクトルにする\n",
    "        \n",
    "        dtarget_W = dout * h\n",
    "        self.embed.backward(dtarget_W) # 勾配を設定\n",
    "        dh = dout * target_W \n",
    "        return dh"
   ]
  },
  {
   "cell_type": "markdown",
   "metadata": {},
   "source": [
    "実装の理由は，具体的な値を見るのが早い．"
   ]
  },
  {
   "cell_type": "code",
   "execution_count": 6,
   "metadata": {},
   "outputs": [
    {
     "name": "stdout",
     "output_type": "stream",
     "text": [
      "W\n",
      " [[ 0  1  2]\n",
      " [ 3  4  5]\n",
      " [ 6  7  8]\n",
      " [ 9 10 11]\n",
      " [12 13 14]\n",
      " [15 16 17]\n",
      " [18 19 20]] \n",
      "\n",
      "idx\n",
      " [0 3 1] \n",
      "\n",
      "target_W\n",
      " [[ 0  1  2]\n",
      " [ 9 10 11]\n",
      " [ 3  4  5]] \n",
      "\n",
      "h\n",
      " [[0 1 2]\n",
      " [3 4 5]\n",
      " [6 7 8]] \n",
      "\n",
      "target_W * h\n",
      " [[ 0  1  4]\n",
      " [27 40 55]\n",
      " [18 28 40]] \n",
      "\n",
      "out [  5 122  86] \n",
      "\n"
     ]
    }
   ],
   "source": [
    "W = np.array(range(21)).reshape(7, 3)\n",
    "idx = np.array([0, 3, 1])\n",
    "h = np.array(range(9)).reshape(3, 3)\n",
    "\n",
    "embed = Embedding(W)\n",
    "target_W = embed.forward(idx)\n",
    "out = np.sum(target_W * h, axis=1)\n",
    "\n",
    "print(\"W\\n\", W, '\\n')\n",
    "print(\"idx\\n\", idx, '\\n')\n",
    "print(\"target_W\\n\", target_W, '\\n')\n",
    "print(\"h\\n\", h, '\\n')\n",
    "print(\"target_W * h\\n\", target_W * h, '\\n')\n",
    "print(\"out\", out, '\\n')"
   ]
  },
  {
   "cell_type": "code",
   "execution_count": 7,
   "metadata": {},
   "outputs": [
    {
     "name": "stdout",
     "output_type": "stream",
     "text": [
      "dout\n",
      " [1 1 1] \n",
      "\n",
      "dout\n",
      " [[1]\n",
      " [1]\n",
      " [1]] \n",
      "\n",
      "dtarget_W\n",
      " [[0 1 2]\n",
      " [3 4 5]\n",
      " [6 7 8]] \n",
      "\n",
      "embed grads\n",
      " [array([[ 0,  3,  6],\n",
      "       [18, 21, 24],\n",
      "       [ 0,  0,  0],\n",
      "       [ 9, 12, 15],\n",
      "       [ 0,  0,  0],\n",
      "       [ 0,  0,  0],\n",
      "       [ 0,  0,  0]])] \n",
      "\n",
      "dh\n",
      " [[ 0  1  2]\n",
      " [ 9 10 11]\n",
      " [ 3  4  5]] \n",
      "\n"
     ]
    }
   ],
   "source": [
    "dout = np.array([1, 1, 1])\n",
    "print(\"dout\\n\", dout, \"\\n\")\n",
    "dout = dout.reshape(dout.shape[0], 1)\n",
    "print(\"dout\\n\", dout, \"\\n\")\n",
    "\n",
    "dtarget_W = dout * h\n",
    "print(\"dtarget_W\\n\", dtarget_W, \"\\n\")\n",
    "\n",
    "embed.backward(dtarget_W) # 勾配を設定\n",
    "print(\"embed grads\\n\", embed.grads, \"\\n\")\n",
    "\n",
    "dh = dout * target_W \n",
    "print(\"dh\\n\", dh, \"\\n\")"
   ]
  },
  {
   "cell_type": "markdown",
   "metadata": {},
   "source": [
    "## Negative Sampling\n",
    "今はまだ正例についてだけ学習を行ったにすぎない．  \n",
    "上の実装は，sayの確率が1に近づくように重みを学習させることはできるが，sayでない単語を0に近づけるように学習させることができない． \n",
    "かといって，全てのsayでない単語について学習していては何も変わらない．  \n",
    "そこで，近似解として少ない数の負例をピックアップして損失を求める．  \n",
    "そして，正例と負例における損失を全て足し合わせて，その結果を最終的な損失とする．  \n",
    "以上がNegative Samplingである．  "
   ]
  },
  {
   "cell_type": "markdown",
   "metadata": {},
   "source": [
    "## Negative Samplingのサンプリング手法\n",
    "負例は，コーパス中でよく使われる単語を抽出されやすくし，あまり使われない単語は抽出されにくくする．  \n",
    "コーパスから各単語の出現した回数を求め，これを確率分布で表し，そこから単語を抽出する．  \n",
    "レアな単語がコンテキストになることは現実的な問題においてもあまりなく，抽出する重要性は低い．  \n",
    "\n",
    "これには，以下のnumpyによるランダムサンプリングを行う"
   ]
  },
  {
   "cell_type": "code",
   "execution_count": 8,
   "metadata": {},
   "outputs": [
    {
     "name": "stdout",
     "output_type": "stream",
     "text": [
      "9\n",
      "6\n"
     ]
    }
   ],
   "source": [
    "# 0~9からサンプリング\n",
    "print(np.random.choice(10))\n",
    "print(np.random.choice(10))\n",
    "\n",
    "# words から一つランダムサンプリング\n",
    "words = ['you']"
   ]
  }
 ],
 "metadata": {
  "kernelspec": {
   "display_name": "Python 3",
   "language": "python",
   "name": "python3"
  },
  "language_info": {
   "codemirror_mode": {
    "name": "ipython",
    "version": 3
   },
   "file_extension": ".py",
   "mimetype": "text/x-python",
   "name": "python",
   "nbconvert_exporter": "python",
   "pygments_lexer": "ipython3",
   "version": "3.6.5"
  }
 },
 "nbformat": 4,
 "nbformat_minor": 2
}
