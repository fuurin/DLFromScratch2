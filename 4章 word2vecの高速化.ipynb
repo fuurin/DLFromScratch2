{
 "cells": [
  {
   "cell_type": "code",
   "execution_count": 2,
   "metadata": {},
   "outputs": [],
   "source": [
    "import numpy as np\n",
    "%matplotlib inline"
   ]
  },
  {
   "cell_type": "markdown",
   "metadata": {},
   "source": [
    "前章のword2vecは語彙数が増えると計算量があまりにもおおくなる  \n",
    "高速化のため，以下の2つの高速化を行う  \n",
    "- Embeddingレイヤの導入\n",
    "- Negative Samplingという損失関数の導入\n",
    "\n",
    "PTBデータセットという実用的なサイズのコーパスを対象に学習を行う．  \n",
    "単語の分散表現の良さを実際に評価する．"
   ]
  },
  {
   "cell_type": "markdown",
   "metadata": {},
   "source": [
    "# まとめ\n",
    "word2vecは語彙が増えるごとに計算量が増加するので，次の改良を行った\n",
    "- MatMulレイヤ -> Embeddingレイヤ\n",
    "    - one-hotベクトルを全部MatMulする必要はない．重みの対応する行を抜き出すだけ\n",
    "- 出力層を 多値分類 -> 2値分類 + Negative sampling\n",
    "    - 正解の単語に対する確率と，少量の不正解の単語に対する確率だけ計算すればいい\n",
    "    - 不正解の単語をサンプリングするにはコーパス中の出現数の分布に0.75などの累乗を施した確率分布からランダムで選び出す\n",
    "\n",
    "これらは，word2vecの計算の中で必要なところのみを取り扱うことで近似的に答えを導く方法である．  \n",
    "\n",
    "word2vecによって得られた単語の分散表現(入力層の重み)は\n",
    "- 似たコンテキストで使われる単語は近い値を持つようになる\n",
    "- 類推問題をベクトルの加算と減算によって解ける性質を持つ\n",
    "- 転移学習に利用でき，その他の様々な自然言語処理のタスクに利用できる．"
   ]
  },
  {
   "cell_type": "markdown",
   "metadata": {},
   "source": [
    "# word2vecの改良①\n",
    "CBOWモデルでは，例えば語彙が100万のとき，以下の計算がボトルネックとなる．  \n",
    "- 入力層の100万次元のone-hot表現と重み行列Win(1000000, 100)の積による計算\n",
    "    - 4.1節のEmbeddingレイヤで解決\n",
    "- 中間層と重み行列Wout(100, 1000000)の積と100万次元の出力を持つSoftmaxレイヤの計算\n",
    "    - 4.2節のNegative Samplingで解決"
   ]
  },
  {
   "cell_type": "markdown",
   "metadata": {},
   "source": [
    "## Embeddingレイヤ\n",
    "CBOWの入力層とWinの計算は，単にone-hotベクトルで1になっているWinの行を抜き出しているだけ．  \n",
    "重みパラメータから，単語IDに該当する行ベクトルを抜き出すためのレイヤとして，Embeddingレイヤを作成する．  \n",
    "word embeddingとは，単語の密なベクトル表現のことで，「単語の埋め込み」や「単語の分散表現(distributed representation)」と呼ばれる．  "
   ]
  },
  {
   "cell_type": "markdown",
   "metadata": {},
   "source": [
    "## Embeddingレイヤの実装\n",
    "重みから特定の行を抜き出すには，単にW[2]やW[5]と書けばよい．"
   ]
  },
  {
   "cell_type": "code",
   "execution_count": 3,
   "metadata": {},
   "outputs": [
    {
     "name": "stdout",
     "output_type": "stream",
     "text": [
      "[[ 0  1  2]\n",
      " [ 3  4  5]\n",
      " [ 6  7  8]\n",
      " [ 9 10 11]\n",
      " [12 13 14]\n",
      " [15 16 17]\n",
      " [18 19 20]]\n",
      "\n",
      "[6 7 8]\n",
      "[15 16 17]\n"
     ]
    }
   ],
   "source": [
    "W = np.arange(21).reshape(7, 3)\n",
    "print(W)\n",
    "print()\n",
    "print(W[2])\n",
    "print(W[5])"
   ]
  },
  {
   "cell_type": "markdown",
   "metadata": {},
   "source": [
    "複数の行をまとめて抽出する  \n",
    "ミニバッチ処理を想定"
   ]
  },
  {
   "cell_type": "code",
   "execution_count": 4,
   "metadata": {},
   "outputs": [
    {
     "data": {
      "text/plain": [
       "array([[ 3,  4,  5],\n",
       "       [ 0,  1,  2],\n",
       "       [ 9, 10, 11],\n",
       "       [ 0,  1,  2]])"
      ]
     },
     "execution_count": 4,
     "metadata": {},
     "output_type": "execute_result"
    }
   ],
   "source": [
    "idx = np.array([1, 0, 3, 0])\n",
    "W[idx]"
   ]
  },
  {
   "cell_type": "markdown",
   "metadata": {},
   "source": [
    "Embeddingレイヤを実装  \n",
    "順伝播は重みWの特定の行を何の手も加えず抜き出すだけ  \n",
    "逆伝播は前の層から伝わってきた勾配を，自身の重みの勾配dWのidxで指定されたすべての行に設定する．  \n",
    "この逆伝播は，$y=xW$という順伝播の式のとき，以下の式で表せる．  \n",
    "$$ \\frac{\\partial L}{\\partial W} = x^{\\top} \\frac{\\partial L}{\\partial y} = x^{\\top} dout$$\n",
    "$x$で1になっている選ばれた行が$dout$で，それ以外は0である行列が勾配$\\frac{\\partial L}{\\partial W}$となる．"
   ]
  },
  {
   "cell_type": "code",
   "execution_count": 5,
   "metadata": {},
   "outputs": [],
   "source": [
    "class Embedding:\n",
    "    def __init__(self, W):\n",
    "        self.params = [W]\n",
    "        self.grads = [np.zeros_like(W)]\n",
    "        self.idx = None\n",
    "    \n",
    "    def forward(self, idx):\n",
    "        W, = self.params\n",
    "        self.idx = idx # ミニバッチで選ばれた行のインデックス\n",
    "        out = W[idx]\n",
    "        return out\n",
    "    \n",
    "#     def backward(self, dout):\n",
    "#         dW, = self.grads\n",
    "#         dW[...] = 0\n",
    "#         dW[self.idx] = dout # 悪い例 idxは重複を持つ可能性があり，そのときインデックスが小さい行は大きい行で上書きされてしまう．\n",
    "#         return None\n",
    "\n",
    "    def backward(self, dout):\n",
    "        dW, = self.grads\n",
    "        dW[...] = 0\n",
    "        \n",
    "        # 重複するインデックスのところは，上書きではなく加算を行う．\n",
    "            # 重みの更新は，Winの各行について行われる．\n",
    "            # インデックスが例えば2つ重複しているところは，2回学習が行われていることになる\n",
    "            # すると，2回分の重みの更新を一度に行えばよいため，(Win - dW1) - dW2 = Win - (dW1 + dW2) のように計算する．\n",
    "            # 従って，インデックスが重複しているところは上書きではなく，加算を行えばよい．\n",
    "            \n",
    "        for i, word_id in enumerate(self.idx):\n",
    "            # dW[word_id] += dout[i]\n",
    "            np.add.at(dW, self.idx, dout) # 高速\n",
    "        \n",
    "        return None"
   ]
  },
  {
   "cell_type": "markdown",
   "metadata": {},
   "source": [
    "以上でEmbeddingレイヤの実装は終わり．  \n",
    "CBOWモデルの実装では，MatMulレイヤをEmbeddingレイヤに切り替えればよい．  \n",
    "これによってメモリの使用量を減らし，さらに無駄な計算を省くことができるようになった．  "
   ]
  },
  {
   "cell_type": "markdown",
   "metadata": {},
   "source": [
    "# word2vecの改良②\n",
    "中間層以降の行列の積とSoftmaxレイヤの計算では，Negative Sampling(負例サンプリング)を行う．  \n",
    "これによって，語彙数がどれだけ多くなっても計算量を一定に抑えられる．  "
   ]
  },
  {
   "cell_type": "markdown",
   "metadata": {},
   "source": [
    "## 中間層以降の計算の問題点\n",
    "例えば，出力層を100万次元にすると，以下の点でまだ問題が残っている\n",
    "- 中間層のニューロンとWoutの積(100×100万の行列計算)\n",
    "- Softmaxレイヤの計算(100万次元の平均計算)\n",
    "\n",
    "特に，Softmaxレイヤの計算は以下の式から，その重さがわかる．分母ではexp計算を100万回行なっている．\n",
    "$$ y_k = \\frac{exp(s_k)}{\\sum_{i=1}^{1000000}exp(s_i)} $$"
   ]
  },
  {
   "cell_type": "markdown",
   "metadata": {},
   "source": [
    "## 多値分類から二値分類へ\n",
    "この手法の鍵となるアイデアは，多値分類を二値分類で近似することにある．  \n",
    "先ほどの例では，100万単語から正しい単語を1つ選ぶ問題として考えてきたが，これをYes/Noで答えられる問題で近似できないだろうか？  \n",
    "例えば，コンテキストがYouとGoodbyeのとき，  \n",
    "「ターゲットとなる単語は何ですか？」を「ターゲットとなる単語はsayですか？」という質問に変えればいい  \n",
    "そうした場合，出力層にはニューロンをひとつだけ用意すれば事足りる．  \n",
    "その出力層のニューロンは，「say」であるスコアを出力しさえすればいい．  "
   ]
  },
  {
   "cell_type": "markdown",
   "metadata": {},
   "source": [
    "中間層と出力側の重み行列の積は，隠れ層の出力「say」に対応するWoutの列のみを内積計算した，スカラー値のみを出力すればよい．  \n",
    "そのスコアを確率に変換するため，シグモイド関数を適用する．"
   ]
  },
  {
   "cell_type": "markdown",
   "metadata": {},
   "source": [
    "## シグモイド関数と交差エントロピー誤差\n",
    "スコアを確率に変換する．\n",
    "これまでは多値分類問題だったため，Softmax関数を使っていたが，二値分類問題ではシグモイド関数を使う．  \n",
    "シグモイド関数は今，以下の式で表される．  \n",
    "$$ y_0 = \\frac{1}{1 + exp(-x)},  y_1 = 1 - y_0$$\n",
    "グラフの形状はS字カーブをしており，yは0~1の値をとる．xが0に近いほどyは0.5に近くなる．  \n",
    "このとき交差エントロピー誤差は次のようになる．\n",
    "$$ L = -\\sum_{k} t_klogy_k = -(tlog{y} + (1-t)log(1-y)) $$\n",
    "$t=0$(正解)のときは正解の確率を使って$-logy$が出力され，逆に$t=0$(不正解)のときは不正解の確率を使って$-log(1-y)$が出力される．  \n",
    "  \n",
    "  \n",
    "SigmoidレイヤとCrossEntropyErrorレイヤを合わせて出力層とする．  \n",
    "このとき，Sigmoidレイヤの逆伝播は，$y-t$になる．  \n",
    "正解ラベルが1(不正解)のとき，yは1に近いほど更新量が少なくなり，逆に正解ラベルが0(正解)のとき，yは0に近いほど更新量が少なくなる．  \n",
    "\n",
    "同様にして，ソフトマックス関数と交差エントロピー誤差の組み合わせ，恒等関数と2乗和誤差の組み合わせにも，逆伝播時には$y-t$の値が伝播する．  "
   ]
  },
  {
   "cell_type": "markdown",
   "metadata": {},
   "source": [
    "## 多値分類から二値分類へ(実装編)\n",
    "中間層の出力をhとすると，SigmoidWithLossに入力されるのはWoutからsayの部分のみを抜き出すEmbeddingレイヤの出力とhの積になる．\n",
    "この層をEmbedding Dotレイヤとして実装する．  "
   ]
  },
  {
   "cell_type": "code",
   "execution_count": 6,
   "metadata": {},
   "outputs": [],
   "source": [
    "class EmbeddingDot:\n",
    "    def __init__(self, W):\n",
    "        self.embed = Embedding(W)\n",
    "        self.params = self.embed.params\n",
    "        self.grads = self.embed.grads\n",
    "        self.cache = None\n",
    "    \n",
    "    # 抜き出し -> 中間層との積．抜き出すことで0の部分を計算しなくていいため高速\n",
    "    def forward(self, h, idx):\n",
    "        target_W = self.embed.forward(idx)\n",
    "        out = np.sum(target_W * h, axis = 1) # ミニバッチで選ばれた単語の重みと中間層の内積計算\n",
    "        # out = target_W @ h と同様だが，1行のみなのでこのような形にしている．\n",
    "        \n",
    "        self.cache = (h, target_W)\n",
    "        return out\n",
    "    \n",
    "    # 中間層との積 -> 抜き出し．y=xWの逆をやる．\n",
    "    def backward(self, dout):\n",
    "        h, target_W = self.cache\n",
    "        dout = dout.reshape(dout.shape[0], 1) # doutを列ベクトルにする\n",
    "        \n",
    "        dtarget_W = dout * h\n",
    "        self.embed.backward(dtarget_W) # 勾配を設定\n",
    "        dh = dout * target_W \n",
    "        return dh"
   ]
  },
  {
   "cell_type": "markdown",
   "metadata": {},
   "source": [
    "実装の理由は，具体的な値を見るのが早い．"
   ]
  },
  {
   "cell_type": "code",
   "execution_count": 7,
   "metadata": {},
   "outputs": [
    {
     "name": "stdout",
     "output_type": "stream",
     "text": [
      "W\n",
      " [[ 0  1  2]\n",
      " [ 3  4  5]\n",
      " [ 6  7  8]\n",
      " [ 9 10 11]\n",
      " [12 13 14]\n",
      " [15 16 17]\n",
      " [18 19 20]] \n",
      "\n",
      "idx\n",
      " [0 3 1] \n",
      "\n",
      "target_W\n",
      " [[ 0  1  2]\n",
      " [ 9 10 11]\n",
      " [ 3  4  5]] \n",
      "\n",
      "h\n",
      " [[0 1 2]\n",
      " [3 4 5]\n",
      " [6 7 8]] \n",
      "\n",
      "target_W * h\n",
      " [[ 0  1  4]\n",
      " [27 40 55]\n",
      " [18 28 40]] \n",
      "\n",
      "out [  5 122  86] \n",
      "\n"
     ]
    }
   ],
   "source": [
    "W = np.array(range(21)).reshape(7, 3)\n",
    "idx = np.array([0, 3, 1])\n",
    "h = np.array(range(9)).reshape(3, 3)\n",
    "\n",
    "embed = Embedding(W)\n",
    "target_W = embed.forward(idx)\n",
    "out = np.sum(target_W * h, axis=1)\n",
    "\n",
    "print(\"W\\n\", W, '\\n')\n",
    "print(\"idx\\n\", idx, '\\n')\n",
    "print(\"target_W\\n\", target_W, '\\n')\n",
    "print(\"h\\n\", h, '\\n')\n",
    "print(\"target_W * h\\n\", target_W * h, '\\n')\n",
    "print(\"out\", out, '\\n')"
   ]
  },
  {
   "cell_type": "code",
   "execution_count": 8,
   "metadata": {},
   "outputs": [
    {
     "name": "stdout",
     "output_type": "stream",
     "text": [
      "dout\n",
      " [1 1 1] \n",
      "\n",
      "dout\n",
      " [[1]\n",
      " [1]\n",
      " [1]] \n",
      "\n",
      "dtarget_W\n",
      " [[0 1 2]\n",
      " [3 4 5]\n",
      " [6 7 8]] \n",
      "\n",
      "embed grads\n",
      " [array([[ 0,  3,  6],\n",
      "       [18, 21, 24],\n",
      "       [ 0,  0,  0],\n",
      "       [ 9, 12, 15],\n",
      "       [ 0,  0,  0],\n",
      "       [ 0,  0,  0],\n",
      "       [ 0,  0,  0]])] \n",
      "\n",
      "dh\n",
      " [[ 0  1  2]\n",
      " [ 9 10 11]\n",
      " [ 3  4  5]] \n",
      "\n"
     ]
    }
   ],
   "source": [
    "dout = np.array([1, 1, 1])\n",
    "print(\"dout\\n\", dout, \"\\n\")\n",
    "dout = dout.reshape(dout.shape[0], 1)\n",
    "print(\"dout\\n\", dout, \"\\n\")\n",
    "\n",
    "dtarget_W = dout * h\n",
    "print(\"dtarget_W\\n\", dtarget_W, \"\\n\")\n",
    "\n",
    "embed.backward(dtarget_W) # 勾配を設定\n",
    "print(\"embed grads\\n\", embed.grads, \"\\n\")\n",
    "\n",
    "dh = dout * target_W \n",
    "print(\"dh\\n\", dh, \"\\n\")"
   ]
  },
  {
   "cell_type": "markdown",
   "metadata": {},
   "source": [
    "## Negative Sampling\n",
    "今はまだ正例についてだけ学習を行ったにすぎない．  \n",
    "上の実装は，sayの確率が1に近づくように重みを学習させることはできるが，sayでない単語を0に近づけるように学習させることができない． \n",
    "かといって，全てのsayでない単語について学習していては何も変わらない．  \n",
    "そこで，近似解として少ない数の負例をピックアップして損失を求める．  \n",
    "そして，正例と負例における損失を全て足し合わせて，その結果を最終的な損失とする．  \n",
    "以上がNegative Samplingである．  "
   ]
  },
  {
   "cell_type": "markdown",
   "metadata": {},
   "source": [
    "## Negative Samplingのサンプリング手法\n",
    "負例は，コーパス中でよく使われる単語を抽出されやすくし，あまり使われない単語は抽出されにくくする．  \n",
    "コーパスから各単語の出現した回数を求め，これを確率分布で表し，そこから単語を抽出する．  \n",
    "レアな単語がコンテキストになることは現実的な問題においてもあまりなく，抽出する重要性は低い．  \n",
    "\n",
    "これには，以下のnumpyによるランダムサンプリングを行う"
   ]
  },
  {
   "cell_type": "code",
   "execution_count": 9,
   "metadata": {},
   "outputs": [
    {
     "name": "stdout",
     "output_type": "stream",
     "text": [
      "6\n",
      "3\n",
      ".\n",
      "['Hello' 'say' 'say' 'you' 'goodbye']\n",
      "['Hello' 'you' '.' 'goodbye' 'say']\n",
      "I\n"
     ]
    }
   ],
   "source": [
    "# 0~9からサンプリング\n",
    "print(np.random.choice(10))\n",
    "print(np.random.choice(10))\n",
    "\n",
    "# words から一つランダムサンプリング\n",
    "words = ['you', 'say', 'goodbye', 'I', 'Hello', '.']\n",
    "print(np.random.choice(words))\n",
    "\n",
    "# wordsから重複をゆるして5つサンプリング\n",
    "print(np.random.choice(words, size=5))\n",
    "\n",
    "# wordsから重複をゆるさないで5つサンプリング\n",
    "print(np.random.choice(words,size=5,replace=False))\n",
    "\n",
    "#　確率分布pに従ってサンプリング\n",
    "p = [0.5, 0.1, 0.05, 0.2, 0.05, 0.1]\n",
    "print(np.random.choice(words, p=p))"
   ]
  },
  {
   "cell_type": "markdown",
   "metadata": {},
   "source": [
    "Negative Samplingでは，単語の確率分布に対して0.75乗することが提案されている．  \n",
    "これにより，出現確率の低い単語の出現確率を相対的に少し上げ，見捨てないようにする．  \n",
    "ただし，0.75乗した後も確率の和が1になるよう，分母の各要素にも0.75乗する必要がある． \n",
    "$$ P'(w_i) = \\frac{P(w_i)^{0.75}}{\\sum_j^n P(w_j)^{0.75}} $$\n",
    "なお，0.75に理論的な意味はなく，ほかの値でもいい．　　"
   ]
  },
  {
   "cell_type": "code",
   "execution_count": 10,
   "metadata": {},
   "outputs": [
    {
     "name": "stdout",
     "output_type": "stream",
     "text": [
      "[0.5, 0.1, 0.05, 0.2, 0.05, 0.1]\n",
      "[0.40703871 0.12173297 0.07238286 0.20472963 0.07238286 0.12173297]\n",
      "new_p sum:  1.0\n"
     ]
    }
   ],
   "source": [
    "print(p)\n",
    "new_p = np.power(p, 0.75)\n",
    "new_p = new_p / np.sum(new_p)\n",
    "print(new_p)\n",
    "print(\"new_p sum: \", np.sum(new_p))"
   ]
  },
  {
   "cell_type": "markdown",
   "metadata": {},
   "source": [
    "ここではnegative samplingを入手するためのクラスとしてch04/negative_sampling_layer.pyにあるUnigramSamplerを利用する．  \n",
    "UnigramSamplerでは，ターゲットとなる単語は確率0としている．  \n",
    "Unigramという名前がついているのは，1つの単語がターゲットになっているから.  "
   ]
  },
  {
   "cell_type": "code",
   "execution_count": 11,
   "metadata": {},
   "outputs": [
    {
     "name": "stdout",
     "output_type": "stream",
     "text": [
      "[[4 3]\n",
      " [1 2]\n",
      " [3 2]]\n"
     ]
    }
   ],
   "source": [
    "from ch04.negative_sampling_layer import UnigramSampler\n",
    "\n",
    "corpus = np.array([0,1,2,3,4,1,2,3]) # 単語のインデックスによるコーパス\n",
    "power = 0.75\n",
    "sample_size = 2\n",
    "\n",
    "sampler = UnigramSampler(corpus, power, sample_size)\n",
    "target = np.array([1,3,0])\n",
    "negative_sample = sampler.get_negative_sample(target)\n",
    "print(negative_sample)"
   ]
  },
  {
   "cell_type": "markdown",
   "metadata": {},
   "source": [
    "## Negative Samplingの実装\n",
    "SoftmaxWithLossと同じで，最後の層を担当させる．"
   ]
  },
  {
   "cell_type": "code",
   "execution_count": 12,
   "metadata": {},
   "outputs": [],
   "source": [
    "from common.layers import SigmoidWithLoss\n",
    "\n",
    "class NegativeSamplingLoss:\n",
    "    def __init__(self, W, corpus, power=0.75, sample_size=5):\n",
    "        self.sample_size = sample_size\n",
    "        self.sampler = UnigramSampler(corpus, power, sample_size)\n",
    "        self.loss_layers = [SigmoidWithLoss() for _ in range(sample_size + 1)] # 0: target, 1~: negative samples\n",
    "        self.embed_dot_layers = [EmbeddingDot(W) for _ in range(sample_size + 1)] # 0: target, 1~: negative samples\n",
    "        \n",
    "        # paramsとgradsをそれぞれ同じ要素番号のところで対応するリストにまとめる．\n",
    "        # リストに対するリストの加算はappendを意味する\n",
    "        # paramsとgradsをメンバ変数としてまとめて持っておくことで，SGDやAdaGradといったOptimizerに簡単に重みを渡すことができる\n",
    "        # Optimizerでは，gradsを用いてparamsを更新する．バッチをランダムに選ぶSGDやgradsに反動を加えて局所最適解に陥らないようにするmomentum等\n",
    "        self.params, self.grads = [], []\n",
    "        for layer in self.embed_dot_layers:\n",
    "            self.params += layer.params\n",
    "            self.grads += layer.grads\n",
    "    \n",
    "    def forward(self, h, target):\n",
    "        batch_size = target.shape[0]\n",
    "        negative_sample = self.sampler.get_negative_sample(target)\n",
    "        \n",
    "        # 正例のフォワード\n",
    "        correct_label = np.ones(batch_size, dtype=np.int32) # batchの各要素に対して正例ラベルを生成\n",
    "        score = self.embed_dot_layers[0].forward(h, target) # 埋め込み層(hからtargetの行を抜き出す)の処理\n",
    "        loss = self.loss_layers[0].forward(score, correct_label) # Sigmoid関数と交差エントロピー誤差によるLossを求める\n",
    "        \n",
    "        # 負例のフォワード\n",
    "        negative_label = np.zeros(batch_size, dtype=np.int32) # batchの各要素に対して負例ラベルを生成\n",
    "        for i in range(self.sample_size):\n",
    "            negative_target = negative_sample[:, i] # i列を持ってくる書き方, 複数のtarget(上の例でいうと[1,3,0])に対する各sampleを処理する\n",
    "            score = self.embed_dot_layers[1 + i].forward(h, negative_target) # 埋め込み層(hからtargetの行を抜き出す)の処理\n",
    "            loss += self.loss_layers[1 + i].forward(score, negative_label) # Sigmoid関数と交差エントロピー誤差によるLossを求める\n",
    "        \n",
    "        return loss\n",
    "    \n",
    "    # dout: 前の層から伝わってきたLoss\n",
    "    def backward(self, dout=1):\n",
    "        dh = 0\n",
    "        # 順伝搬のときはembed -> lossだったが，ここでは逆伝搬なので逆にして loss -> embed の順で伝搬する\n",
    "        # 各サンプルに対して逆伝搬を行う．target(+) -> negative(-) -> negative(-) -> ... これらのsampleはそれぞれbatchなので，それぞれリスト．\n",
    "        for l0, l1 in zip(self.loss_layers, self.embed_dot_layers):\n",
    "            dscore = l0.backward(dout)\n",
    "            dh += l1.backward(dscore)\n",
    "        \n",
    "        return dh # 前の層に伝えるLoss, 全てのニューロンに伝わる"
   ]
  },
  {
   "cell_type": "markdown",
   "metadata": {},
   "source": [
    "# 改良版word2vecの学習\n",
    "PTBデータセットを使って実用的な単語の分散表現を獲得"
   ]
  },
  {
   "cell_type": "markdown",
   "metadata": {},
   "source": [
    "## CBOWモデルの実装"
   ]
  },
  {
   "cell_type": "code",
   "execution_count": 13,
   "metadata": {},
   "outputs": [],
   "source": [
    "class CBOW:\n",
    "    def __init__(self, vocab_size, hidden_size, window_size, corpus):\n",
    "        V, H = vocab_size, hidden_size\n",
    "        \n",
    "        # 重みの初期化\n",
    "        W_in = 0.01 * np.random.randn(V, H).astype('f')\n",
    "        W_out = 0.01 * np.random.randn(V, H).astype('f')\n",
    "        \n",
    "        # 重みからレイヤを生成\n",
    "        # CBOWは複数の単語からターゲットを推測するモデルなので，EmbeddingレイヤをContextの単語数だけ並列に並べる\n",
    "        self.in_layers = []\n",
    "        for i in range(2 * window_size):\n",
    "            layer = Embedding(W_in)\n",
    "            self.in_layers.append(layer)\n",
    "        self.ns_loss = NegativeSamplingLoss(W_out, corpus, power=0.75, sample_size=5)\n",
    "        \n",
    "        # すべての重みと勾配を配列にまとめる\n",
    "        layers = self.in_layers + [self.ns_loss]\n",
    "        self.params, self.grads = [], []\n",
    "        for layer in layers:\n",
    "            self.params += layer.params\n",
    "            self.grads += layer.grads\n",
    "        \n",
    "        # メンバ変数に単語の分散表現を設定\n",
    "        self.word_vecs = W_in\n",
    "    \n",
    "    # CBOWの順伝搬では，学習データとしてコンテキスト，推論対象である正解ラベルとしてターゲットが与えられる．\n",
    "    def forward(self, contexts, target):\n",
    "        h = 0\n",
    "        for i, layer in enumerate(self.in_layers):\n",
    "            h += layer.forward(contexts[:, i])\n",
    "        h *= 1 / len(self.in_layers)\n",
    "        loss = self.ns_loss.forward(h, target) # ターゲットはロスを求める層に直接渡してやる\n",
    "        return loss\n",
    "    \n",
    "    def backward(self, dout=1):\n",
    "        dout = self.ns_loss.backward(dout)\n",
    "        dout *= 1 / len(self.in_layers)\n",
    "        for layer in self.in_layers:\n",
    "            layer.backward(dout)\n",
    "        return None"
   ]
  },
  {
   "cell_type": "markdown",
   "metadata": {},
   "source": [
    "## CBOWモデルの学習コード\n",
    "学習には半日程度かかることもある．GPUを使えば早いけど．  \n",
    "学習したらpickleを使って重み，すなわち単語の分散表現を保存しておく．  \n",
    "学習済みパラメータがあるので．それを使ってもいい．"
   ]
  },
  {
   "cell_type": "code",
   "execution_count": 18,
   "metadata": {},
   "outputs": [
    {
     "name": "stdout",
     "output_type": "stream",
     "text": [
      "10000\n",
      "めっちゃ時間かかるので注意\n"
     ]
    }
   ],
   "source": [
    "from common import config\n",
    "import pickle\n",
    "# config.GPU = True # GPUを使うときはTrueにする\n",
    "\n",
    "from common.trainer import Trainer\n",
    "from common.optimizer import Adam\n",
    "from common.util import create_contexts_target, to_cpu, to_gpu\n",
    "from dataset import ptb\n",
    "\n",
    "# ハイパーパラメータの設定\n",
    "window_size = 5\n",
    "hidden_size = 100\n",
    "batch_size = 100\n",
    "max_epoch = 10\n",
    "\n",
    "# データの読み込み\n",
    "corpus, word_to_id, id_to_word = ptb.load_data('train')\n",
    "vocab_size = len(word_to_id)\n",
    "print(vocab_size)\n",
    "\n",
    "# コーパスから窓の大きさのコンテキストと，対応するターゲットを取得\n",
    "contexts, target = create_contexts_target(corpus, window_size)\n",
    "if config.GPU:\n",
    "    contexts, target = to_gpu(contexts), to_gpu(target) # np array -> cupy array\n",
    "    \n",
    "# モデルなどの生成\n",
    "model = CBOW(vocab_size, hidden_size, window_size, corpus)\n",
    "optimizer = Adam()\n",
    "trainer = Trainer(model, optimizer)\n",
    "\n",
    "\"\"\"\n",
    "# 学習開始 contextsを訓練データ，targetを正解ラベルとして学習を行う\n",
    "trainer.fit(contexts, target, max_epoch, batch_size)\n",
    "trainer.plot()\n",
    "\n",
    "# 後で利用できるように，必要なデータを保存\n",
    "word_vecs = model.word_vecs\n",
    "\n",
    "if config.GPU:\n",
    "    word_vecs = to_cpu(word_vecs)\n",
    "\n",
    "params = {}\n",
    "params['word_vecs'] = word_vecs.astype(np.float16)\n",
    "params['word_to_id'] = word_to_id\n",
    "params['id_to_word'] = id_to_word\n",
    "pkl_file = 'cbow_params.pkl'\n",
    "with open(pkl_file, 'wb') as f:\n",
    "    pickle.dump(params, f, -1)\n",
    "\"\"\"\n",
    "print(\"めっちゃ時間かかるので注意\")"
   ]
  },
  {
   "cell_type": "markdown",
   "metadata": {},
   "source": [
    "## CBOWモデルの評価\n",
    "2章で実装したmost_similar()メソッドでターゲットとなる単語に対し最も近い距離，すなわち近い意味を持つ単語TOP5を表示してみる"
   ]
  },
  {
   "cell_type": "code",
   "execution_count": 15,
   "metadata": {},
   "outputs": [
    {
     "name": "stdout",
     "output_type": "stream",
     "text": [
      "\n",
      "[query] you\n",
      " we: 0.6103515625\n",
      " someone: 0.59130859375\n",
      " i: 0.55419921875\n",
      " something: 0.48974609375\n",
      " anyone: 0.47314453125\n",
      "\n",
      "[query] year\n",
      " month: 0.71875\n",
      " week: 0.65234375\n",
      " spring: 0.62744140625\n",
      " summer: 0.6259765625\n",
      " decade: 0.603515625\n",
      "\n",
      "[query] car\n",
      " luxury: 0.497314453125\n",
      " arabia: 0.47802734375\n",
      " auto: 0.47119140625\n",
      " disk-drive: 0.450927734375\n",
      " travel: 0.4091796875\n",
      "\n",
      "[query] toyota\n",
      " ford: 0.55078125\n",
      " instrumentation: 0.509765625\n",
      " mazda: 0.49365234375\n",
      " bethlehem: 0.47509765625\n",
      " nissan: 0.474853515625\n"
     ]
    }
   ],
   "source": [
    "from common.util import most_similar\n",
    "import pickle\n",
    "\n",
    "pkl_file = 'ch04/cbow_params.pkl'\n",
    "\n",
    "with open(pkl_file, 'rb') as f:\n",
    "    params = pickle.load(f)\n",
    "    word_vecs = params['word_vecs']\n",
    "    word_to_id = params['word_to_id']\n",
    "    id_to_word = params['id_to_word']\n",
    "\n",
    "querys = ['you', 'year', 'car', 'toyota']\n",
    "for query in querys:\n",
    "    most_similar(query, word_to_id, id_to_word, word_vecs, top=5)"
   ]
  },
  {
   "cell_type": "markdown",
   "metadata": {},
   "source": [
    "結果を見ると，似たようなポジションの単語と近い意味を持っていることがわかり，なかなか良いベクトル表現になっていることがわかる．  \n",
    "また，ベクトルの分散表現は類推問題(アナロジー問題)を解けることも分かっている．  \n",
    "例えば，king - man + woman = queen"
   ]
  },
  {
   "cell_type": "code",
   "execution_count": 21,
   "metadata": {},
   "outputs": [
    {
     "name": "stdout",
     "output_type": "stream",
     "text": [
      "\n",
      "[analogy] king:man = queen:?\n",
      " woman: 5.16015625\n",
      " veto: 4.9296875\n",
      " ounce: 4.69140625\n",
      " earthquake: 4.6328125\n",
      " successor: 4.609375\n",
      "\n",
      "[analogy] take:took = go:?\n",
      " went: 4.55078125\n",
      " points: 4.25\n",
      " began: 4.09375\n",
      " comes: 3.98046875\n",
      " oct.: 3.90625\n",
      "\n",
      "[analogy] car:cars = child:?\n",
      " children: 5.21875\n",
      " average: 4.7265625\n",
      " yield: 4.20703125\n",
      " cattle: 4.1875\n",
      " priced: 4.1796875\n",
      "\n",
      "[analogy] good:better = bad:?\n",
      " more: 6.6484375\n",
      " less: 6.0625\n",
      " rather: 5.21875\n",
      " slower: 4.734375\n",
      " greater: 4.671875\n"
     ]
    }
   ],
   "source": [
    "from common.util import analogy\n",
    "\n",
    "# aがbならcは何？\n",
    "analogy('king', 'man', 'queen', word_to_id, id_to_word, word_vecs)\n",
    "analogy('take', 'took', 'go', word_to_id, id_to_word, word_vecs)\n",
    "analogy('car', 'cars', 'child', word_to_id, id_to_word, word_vecs)\n",
    "analogy('good', 'better', 'bad', word_to_id, id_to_word, word_vecs)"
   ]
  },
  {
   "cell_type": "markdown",
   "metadata": {},
   "source": [
    "最初の三つはうまくいっているが，badはダメだった．しかし，比較級が並んでいることから，文法的な意味は捉えられている模様  \n",
    "他にも，goodとbestの間にはbetterが存在するといった関係性など，word2vecの単語の分散表現には興味深い結果がいくつも見つかっている．  \n",
    "しかしPTBデータセットは小規模なので期待する結果が得られないことが多い．さらに大きなコーパスを対象として学習すれば，より精度が高く，よりロバストな単語の分散表現を得られ，類推問題の正解率も向上することが期待できる．"
   ]
  },
  {
   "cell_type": "markdown",
   "metadata": {},
   "source": [
    "# word2vecに関する残りのテーマ"
   ]
  },
  {
   "cell_type": "markdown",
   "metadata": {},
   "source": [
    "## word2vecを使ったアプリケーションの例\n",
    "\n",
    "### 転移学習\n",
    "ある分野で学んだ知識を他の分野にも適用すること．  \n",
    "自然言語のタスクでは，単語の分散表現をゼロから学習することはなく，先に大きなコーパスで行った学習結果を個別のタスクで利用する．\n",
    "- テキスト分類\n",
    "- 文書クラスタリング\n",
    "- 品詞タグ付け\n",
    "- 感情分析\n",
    "\n",
    "### 文章を固定長のベクトルに変換する\n",
    "単語の固定長ベクトルへの変換を見てきたが，文章はどうなるだろうか  \n",
    "- bag of words: 文章内の単語の固定長のベクトルの長さ\n",
    "- リカレントニューラルネットワーク(5章)\n",
    "\n",
    "自然言語をベクトルに変換できれば，一般的な機械学習の手法が適用できるため，重要である．  \n",
    "しかし手元に大量のデータがあるならゼロから単語の分散表現を学習することもアリかもしれない．  \n",
    "\n",
    "### アプリケーションの例\n",
    "1. メールデータを用意\n",
    "2. メールデータに感情のラベル付け\n",
    "3. 学習済みのword2vecを使って(転移学習)メールデータをベクトルへ変換\n",
    "4. 感情分析を行うSVMやNNといった分類システムで分類  \n",
    "\n",
    "このように転移学習を行うことで，早く高い精度のタスク処理が可能になる"
   ]
  },
  {
   "cell_type": "markdown",
   "metadata": {},
   "source": [
    "## 単語ベクトルの評価方法\n",
    "単語の分散表現を使ったタスク処理では，システム全体の出す結果をもとに評価を行う必要があるが，手間がかかる．  \n",
    "そこで，「類似性」や「類推問題」を使って単語の分散表現は評価される．  \n",
    "\n",
    "- 類似性の評価\n",
    "    - 人の手で2つの単語の類似度を10段階などでスコア化する\n",
    "- 類推問題の評価\n",
    "    - こちらも人の手で king:queen = man:? のような類推問題を解かせたデータを使う\n",
    "    - semanticsとsyntaxで分けて評価されたりする\n",
    "\n",
    "論文[27]では以下のことが分かっている．\n",
    "- CBOWかskip-gramか，モデルによって精度が異なるので，コーパスに応じて最適なモデルを選ぶことが必要\n",
    "- コーパスが大きいほどいい結果になる\n",
    "- 単語ベクトルの次元数は大きすぎても小さすぎてもよくない，適切な大きさが必要\n",
    "\n",
    "また，類推問題の評価が高いからと言って，その分散表現を使った次の学習でも必ず良い結果になるとは限らないので注意する"
   ]
  }
 ],
 "metadata": {
  "kernelspec": {
   "display_name": "Python 3",
   "language": "python",
   "name": "python3"
  },
  "language_info": {
   "codemirror_mode": {
    "name": "ipython",
    "version": 3
   },
   "file_extension": ".py",
   "mimetype": "text/x-python",
   "name": "python",
   "nbconvert_exporter": "python",
   "pygments_lexer": "ipython3",
   "version": "3.6.5"
  }
 },
 "nbformat": 4,
 "nbformat_minor": 2
}
