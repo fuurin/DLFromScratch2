{
 "cells": [
  {
   "cell_type": "code",
   "execution_count": 1,
   "metadata": {},
   "outputs": [],
   "source": [
    "import numpy as np\n",
    "import matplotlib.pyplot as plt\n",
    "%matplotlib inline"
   ]
  },
  {
   "cell_type": "markdown",
   "metadata": {},
   "source": [
    "Attentionは効果的で重要なテクニック"
   ]
  },
  {
   "cell_type": "markdown",
   "metadata": {},
   "source": [
    "# Attentionの仕組み\n",
    "「注意機構」(Attention mechanism)は，seq2seqに必要な情報へ注意を向けさせる"
   ]
  },
  {
   "cell_type": "markdown",
   "metadata": {},
   "source": [
    "## seq2seqの問題点\n",
    "Encoderの出力するベクトルの長さが固定長だと，洋服がタンスからあふれだすように，いずれ限界が訪れる．"
   ]
  },
  {
   "cell_type": "markdown",
   "metadata": {},
   "source": [
    "## Encoderの改良\n",
    "LSTMレイヤの隠れ状態ベクトルを「すべて」利用することで，入力される文章の長さに応じた情報を出力させる  \n",
    "全ての時刻の隠れ状態を返すか，最後の隠れ状態ベクトルだけを返すかは，KerasのRNN初期化時のreturn_sequencesなどで変更できる  \n",
    "<br>\n",
    "Encoderの出力するベクトルは入力された単語の数だけベクトルがあり，それぞれのベクトルは各単語に対応した情報を多く含む\n",
    "<br>\n",
    "吾輩 は 猫 で ある -> $hs$ \n",
    "<div style=\"text-align: center\">a b c d (「吾輩」要素強め)<br>\n",
    "e f g h<br>\n",
    "i j k l<br>\n",
    "m n o p<br>\n",
    "q r s t<br>\n",
    "</div>\n",
    "<br>\n",
    "\n",
    "ここまでのRNNは過去の情報しか見えないが，全体の情報をバランスよく含めたければ**双方向RNN**や**双方向LSTM**を使う．  \n",
    "ここでは，これまで通り単方向のLSTMを利用する．"
   ]
  },
  {
   "cell_type": "markdown",
   "metadata": {},
   "source": [
    "## Decoderの改良1\n",
    "$hs$をDecoderで扱うとき，どの行がどの単語に対応しているかを学習させる．  \n",
    "単語やフレーズの対応関係を表す情報は**アライメント**と呼ばれる．  \n",
    "Attentionという技術は，アライメントのアイデアをseq2seqで自動で取り入れることに成功した．  \n",
    "このように，時系列データの変換のため，翻訳先と翻訳元の対応情報に注意を向けさせる仕組みを**Attention**と呼ぶ  \n",
    "<br>\n",
    "Attentionの仕組みを取り入れたDecoderは，LSTMへhsの最終行を渡すのと同時に，LSTMの各時刻からの出力と$hs$を受け取って何らかの計算をしたのち，Affine層へ出力するレイヤを設ける．  \n",
    "例えば，最初のLSTMが「I」を出力するとき，その層では$hs$から「吾輩」に対応するベクトルを選び出す操作を，その何らかの計算で行う．  \n",
    "しかし，選び出すという操作は基本的に微分ができないので，誤差逆伝搬法が使えない．  \n",
    "なので，$hs$のすべてを選び出し，各行に各単語の重要度(貢献度)となる重み$a$をかけることで選び出しを行う．  \n",
    "その重みをつけた各単語のベクトルの総和を**コンテキストベクトル**$c$として算出する．  \n",
    "例えば「吾輩」に相当するベクトルの重みが0.8などの大きな値であるとき，$hs$から算出されるコンテキストベクトルは「吾輩」のベクトルに近いベクトルになり，これがベクトルの選び出しに相当する操作で，微分も可能なものになっている．  "
   ]
  },
  {
   "cell_type": "code",
   "execution_count": 17,
   "metadata": {},
   "outputs": [
    {
     "name": "stdout",
     "output_type": "stream",
     "text": [
      "hs (5, 4)\n",
      "[[ 1.65959464 -1.18548218 -1.02005596 -0.313804  ]\n",
      " [-0.0666629  -1.62565225  1.31726545 -0.64739142]\n",
      " [ 0.67955789 -0.5281331   0.57131534  1.05003435]\n",
      " [-0.17295064 -0.1116932  -0.47715419  1.11322819]\n",
      " [-0.58930992  0.70504954  1.10845058  1.28380489]] \n",
      "\n",
      "a (5,)\n",
      "[0.8  0.1  0.03 0.05 0.02] \n",
      "\n",
      "ar (5, 4)\n",
      "[[0.8  0.8  0.8  0.8 ]\n",
      " [0.1  0.1  0.1  0.1 ]\n",
      " [0.03 0.03 0.03 0.03]\n",
      " [0.05 0.05 0.05 0.05]\n",
      " [0.02 0.02 0.02 0.02]] \n",
      "\n",
      "t (5, 4)\n",
      "[[ 1.32767571 -0.94838574 -0.81604477 -0.2510432 ]\n",
      " [-0.00666629 -0.16256523  0.13172655 -0.06473914]\n",
      " [ 0.02038674 -0.01584399  0.01713946  0.03150103]\n",
      " [-0.00864753 -0.00558466 -0.02385771  0.05566141]\n",
      " [-0.0117862   0.01410099  0.02216901  0.0256761 ]] \n",
      "\n",
      "c (4,)\n",
      "[ 1.32096243 -1.11827863 -0.66886746 -0.20294381] \n",
      "\n",
      "行列の積による重み付き和\n",
      " [ 1.32096243 -1.11827863 -0.66886746 -0.20294381]\n"
     ]
    }
   ],
   "source": [
    "# コンテキストベクトルの算出\n",
    "T, H = 5,4 # 時系列の長さ，単語の隠れ層ベクトルの長さ\n",
    "hs = np.random.randn(T, H)\n",
    "print(\"hs\", hs.shape)\n",
    "print(hs, '\\n')\n",
    "\n",
    "a = np.array([0.8, 0.1, 0.03, 0.05, 0.02])\n",
    "print(\"a\", a.shape)\n",
    "print(a, '\\n')\n",
    "\n",
    "ar = a.reshape(5, 1).repeat(H, axis=1) # 縦にして列方向へ展開，repeatいらないが，あとでrepeatの逆伝搬が必要なことを明示的にしたい．\n",
    "print(\"ar\", ar.shape) # (5, 4)\n",
    "print(ar, '\\n')\n",
    "\n",
    "t = hs * ar\n",
    "print(\"t\", t.shape) # (5, 4)\n",
    "print(t, '\\n')\n",
    "\n",
    "c = np.sum(t, axis=0) # ex.(X, Y, Z) のaxis=1で和を取ると，(X, Z)のように，id=1が消える\n",
    "print(\"c\", c.shape) # (4,)\n",
    "print(c, '\\n')\n",
    "\n",
    "# このような重み付き和の計算は，\n",
    "print(\"行列の積による重み付き和\\n\", a @ hs)\n",
    "# で行うこともできるが，バッチ処理ができない．  \n",
    "# その場合は，np.tensordotやnp.einsumを使うことになるが，ここではわかりやすさを優先してrepeatとsumを使う．"
   ]
  },
  {
   "cell_type": "code",
   "execution_count": 22,
   "metadata": {},
   "outputs": [
    {
     "name": "stdout",
     "output_type": "stream",
     "text": [
      "hs (10, 5, 4)\n",
      "a (10, 5)\n",
      "ar (10, 5, 4)\n",
      "c (10, 4)\n",
      "[[-0.68282769  2.45835465 -1.13851056 -3.81966644]\n",
      " [ 2.08464124 -0.64927893 -0.97363733 -1.44676433]\n",
      " [ 7.50932646  3.83101582  2.97767903 -2.57990066]\n",
      " [ 4.18777673  0.36739177 -1.79448791  0.97715596]\n",
      " [-5.08643804  0.93466861 -3.48879172  1.91318736]\n",
      " [ 1.78318087  2.71911113  2.98107048 -1.52787458]\n",
      " [ 1.84168255 -1.80290223 -0.93913331 -0.0993814 ]\n",
      " [-2.74574998 -3.71737876  0.6001083  -3.69178694]\n",
      " [-1.31499305  1.22049428  1.95301554  3.88925537]\n",
      " [-1.39317153  0.03035466 -0.26898013 -2.11163315]]\n"
     ]
    }
   ],
   "source": [
    "# バッチ処理版の重み付き和\n",
    "N, T, H = 10, 5, 4\n",
    "hs = np.random.randn(N, T, H)\n",
    "print(\"hs\", hs.shape)\n",
    "\n",
    "a = np.random.randn(N, T) # 各単語への重み\n",
    "print(\"a\", a.shape)\n",
    "\n",
    "ar = a.reshape(N, T, 1).repeat(H, axis=2) # 各単語への重みを隠れベクトルの方向(チャネル方向)へ展開\n",
    "print(\"ar\", ar.shape)\n",
    "\n",
    "t = hs * ar\n",
    "c = np.sum(t, axis=1) # 単語の重み＝各チャネルの重さの総和\n",
    "\n",
    "print(\"c\", c.shape)\n",
    "print(c)"
   ]
  },
  {
   "cell_type": "markdown",
   "metadata": {},
   "source": [
    "重み付き和の層をWeightSumクラスとして実装"
   ]
  },
  {
   "cell_type": "code",
   "execution_count": null,
   "metadata": {},
   "outputs": [],
   "source": [
    "class WeightSum:\n",
    "    def __init__(self):\n",
    "        self.params, self.grads = [], []\n",
    "        self.cache = None\n",
    "    \n",
    "    def forward(self, hs, a):\n",
    "        N, T, H = hs.shape\n",
    "        \n",
    "        ar = a.reshape(N, T, 1).repeat(H, axis=2)\n",
    "        t = hs * ar\n",
    "        \n",
    "        c = np.sum(t, axis=1)\n",
    "        self.cache = (hs, ar)\n",
    "        \n",
    "        return c\n",
    "    \n",
    "    def backward(self, dc):\n",
    "        hs, ar = self.cache\n",
    "        N, T, H = hs.shape"
   ]
  }
 ],
 "metadata": {
  "kernelspec": {
   "display_name": "Python 3",
   "language": "python",
   "name": "python3"
  },
  "language_info": {
   "codemirror_mode": {
    "name": "ipython",
    "version": 3
   },
   "file_extension": ".py",
   "mimetype": "text/x-python",
   "name": "python",
   "nbconvert_exporter": "python",
   "pygments_lexer": "ipython3",
   "version": "3.6.5"
  }
 },
 "nbformat": 4,
 "nbformat_minor": 2
}
