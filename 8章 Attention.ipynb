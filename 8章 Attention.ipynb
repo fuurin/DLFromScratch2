{
 "cells": [
  {
   "cell_type": "code",
   "execution_count": 1,
   "metadata": {},
   "outputs": [],
   "source": [
    "import numpy as np\n",
    "import matplotlib.pyplot as plt\n",
    "%matplotlib inline"
   ]
  },
  {
   "cell_type": "markdown",
   "metadata": {},
   "source": [
    "Attentionは効果的で重要なテクニック"
   ]
  },
  {
   "cell_type": "markdown",
   "metadata": {},
   "source": [
    "# Attentionの仕組み\n",
    "「注意機構」(Attention mechanism)は，seq2seqに必要な情報へ注意を向けさせる"
   ]
  },
  {
   "cell_type": "markdown",
   "metadata": {},
   "source": [
    "## seq2seqの問題点\n",
    "Encoderの出力するベクトルの長さが固定長だと，洋服がタンスからあふれだすように，いずれ限界が訪れる．"
   ]
  },
  {
   "cell_type": "markdown",
   "metadata": {},
   "source": [
    "## Encoderの改良\n",
    "LSTMレイヤの隠れ状態ベクトルを「すべて」利用することで，入力される文章の長さに応じた情報を出力させる  \n",
    "全ての時刻の隠れ状態を返すか，最後の隠れ状態ベクトルだけを返すかは，KerasのRNN初期化時のreturn_sequencesなどで変更できる  \n",
    "<br>\n",
    "Encoderの出力するベクトルは入力された単語の数だけベクトルがあり，それぞれのベクトルは各単語に対応した情報を多く含む\n",
    "<br>\n",
    "吾輩 は 猫 で ある -> $hs$ \n",
    "<div style=\"text-align: center\">a b c d (「吾輩」要素強め)<br>\n",
    "e f g h<br>\n",
    "i j k l<br>\n",
    "m n o p<br>\n",
    "q r s t<br>\n",
    "</div>\n",
    "<br>\n",
    "\n",
    "ここまでのRNNは過去の情報しか見えないが，全体の情報をバランスよく含めたければ**双方向RNN**や**双方向LSTM**を使う．  \n",
    "ここでは，これまで通り単方向のLSTMを利用する．"
   ]
  },
  {
   "cell_type": "markdown",
   "metadata": {},
   "source": [
    "## Decoderの改良1\n",
    "$hs$をDecoderで扱うとき，どの行がどの単語に対応しているかを学習させる．  \n",
    "単語やフレーズの対応関係を表す情報は**アライメント**と呼ばれる．  \n",
    "Attentionという技術は，アライメントのアイデアをseq2seqで自動で取り入れることに成功した．  "
   ]
  }
 ],
 "metadata": {
  "kernelspec": {
   "display_name": "Python 3",
   "language": "python",
   "name": "python3"
  },
  "language_info": {
   "codemirror_mode": {
    "name": "ipython",
    "version": 3
   },
   "file_extension": ".py",
   "mimetype": "text/x-python",
   "name": "python",
   "nbconvert_exporter": "python",
   "pygments_lexer": "ipython3",
   "version": "3.7.0"
  }
 },
 "nbformat": 4,
 "nbformat_minor": 2
}
