{
 "cells": [
  {
   "cell_type": "code",
   "execution_count": null,
   "metadata": {},
   "outputs": [],
   "source": [
    "import numpy as np\n",
    "import matplotlib.pyplot as plt\n",
    "%matplotlib inline"
   ]
  },
  {
   "cell_type": "markdown",
   "metadata": {},
   "source": [
    "# 付録A sigmoid関数とtanh関数の微分"
   ]
  },
  {
   "cell_type": "markdown",
   "metadata": {},
   "source": [
    "## sigmoid関数\n",
    "sigmoid関数は次の式で表される\n",
    "$$ y = \\frac{1}{1 + exp(-x)} $$\n",
    "計算グラフは次のような流れになる．  \n",
    "\n",
    "<div style=\"text-align: center\">(x, -1) -> [×] ->(-x) -> [exp] -> (exp(-x), 1) -> [+] -> 1+exp(-x) -> [/] -> 1/(1+exp(-x)) = y -></div>\n",
    "[×]と[+]はすでに扱ったが，[exp]と[/]の微分はまだ説明されていない．  "
   ]
  },
  {
   "cell_type": "markdown",
   "metadata": {},
   "source": [
    "### /ノードの逆伝搬\n",
    "逆数を取るノード\n",
    "$$ y = \\frac{1}{x} $$\n",
    "$x$で偏微分すると，商の微分法から次のようになる\n",
    "$$ \\frac{\\partial y}{\\partial x} = \\frac{0 - 1}{x^2} = -\\Bigl(\\frac{1}{x}\\Bigr)^2 = -y^2 $$\n",
    "よって/ノードでは，上流からの勾配$\\frac{\\partial L}{\\partial y}$に対して，出力した$y$をキャッシュしておいて以下のように返せばよい．  \n",
    "$$ -\\frac{\\partial L}{\\partial y}y^2$$"
   ]
  },
  {
   "cell_type": "markdown",
   "metadata": {},
   "source": [
    "### expノードの逆伝搬\n",
    "自然対数の累乗を取るノード\n",
    "$$ y = e^x $$\n",
    "微分しても$e^x$である．  \n",
    "$$ \\frac{\\partial y}{\\partial x} = e^x = y $$\n",
    "よってexpノードでは，上流からの勾配$\\frac{\\partial L}{\\partial y}$に対して，出力した$y$をキャッシュしておいて以下のように返せばよい．  \n",
    "$$ \\frac{\\partial L}{\\partial y} y $$"
   ]
  },
  {
   "cell_type": "markdown",
   "metadata": {},
   "source": [
    "### sigmoid関数全体の逆伝搬\n",
    "計算グラフをたどり，sigmoid関数は出力$y$をキャッシュしておいて以下のように返せばよい．  \n",
    "$$ \\begin{eqnarray*} \\\\\n",
    "    &\\frac{\\partial L}{\\partial y} (-y_{div}^2)(y_{exp})(-1)& \\\\\n",
    "    &=& \\frac{\\partial L}{\\partial y} \\frac{1}{(1 + \\exp(-x))^2} \\exp(-x) \\\\\n",
    "    &=& \\frac{\\partial L}{\\partial y} \\frac{1}{1 + \\exp(-x)} \\frac{exp(-x)}{1 + \\exp(-x)} \\\\\n",
    "    &=& \\frac{\\partial L}{\\partial y} \\frac{1}{1 + \\exp(-x)} \\Big(1 - \\frac{1}{1 + \\exp(-x)} \\Big) \\\\\n",
    "    &=& \\frac{\\partial L}{\\partial y} y(1-y) \\\\\n",
    "\\end{eqnarray*} $$"
   ]
  },
  {
   "cell_type": "markdown",
   "metadata": {},
   "source": [
    "## A2. tanh関数\n",
    "5章を参照  \n",
    "$$ y = \\tanh(x) = \\frac{e^x - e^{-x}}{e^x + e^{-x}}$$\n",
    "の微分を求める．商の微分法を使って\n",
    "$$ \\frac{\\partial \\tanh(x)}{\\partial x} = \\frac {({e^x + e^{-x}})({e^x + e^{-x}}) - ({e^x - e^{-x}})({e^x - e^{-x}})}{({e^x + e^{-x}})^2} $$\n",
    "$$ = 1 - \\Bigl\\{ \\frac {({e^x - e^{-x}})}{({e^x + e^{-x}})} \\Bigr\\}^2 $$\n",
    "$$ = 1 - \\tanh(x)^2 = 1 - y^2 $$\n",
    "よって, 上流からの勾配$\\frac{\\partial L} {\\partial y}$を使って\n",
    "$$ \\frac{\\partial L} {\\partial x} = \\frac{\\partial L} {\\partial y} \\cdot \\frac{\\partial y} {\\partial x} = \\frac{\\partial L} {\\partial y} (1 - y^2) $$\n",
    "を下流に返せば良い．  \n",
    "ここでyは順伝播の時に保持しておく．RNNレイヤの実装でいうh_next， 最終的な出力を使うことになる．"
   ]
  },
  {
   "cell_type": "markdown",
   "metadata": {},
   "source": [
    "## A3 まとめ\n",
    "NNの微分は計算グラフで解く方法(A1)と解析的な方法で解く方法(A2)がある．  \n",
    "問題に応じて適宜どちらかを利用する．  \n",
    "複数の方法で問題を解決できることは，時としてとても重要である．"
   ]
  },
  {
   "cell_type": "markdown",
   "metadata": {},
   "source": [
    "## 付録B WordNetを動かす\n",
    "WordNetをPythonから利用するには，**NLTK**(Natural Language Toolkit)というライブラリを使う  \n",
    "NLTKには，自然言語処理のための便利な機能が多く用意されている．\n",
    "- 品詞タグ付け\n",
    "- 構文解析\n",
    "- 情報抽出\n",
    "- 意味解析\n",
    "NLTKをインストールするにはpipを使う  \n",
    "<div style=\"text-align: center\">$ pip install nltk</div>\n"
   ]
  }
 ],
 "metadata": {
  "kernelspec": {
   "display_name": "Python 3",
   "language": "python",
   "name": "python3"
  },
  "language_info": {
   "codemirror_mode": {
    "name": "ipython",
    "version": 3
   },
   "file_extension": ".py",
   "mimetype": "text/x-python",
   "name": "python",
   "nbconvert_exporter": "python",
   "pygments_lexer": "ipython3",
   "version": "3.6.5"
  }
 },
 "nbformat": 4,
 "nbformat_minor": 2
}
